{
 "cells": [
  {
   "cell_type": "code",
   "execution_count": null,
   "metadata": {},
   "outputs": [],
   "source": [
    "import tensorflow as tf\n",
    "hello = tf.constant(\"Hello, world!\")\n",
    "sess = tf.Session()\n",
    "print(sess.run(hello))"
   ]
  },
  {
   "cell_type": "code",
   "execution_count": null,
   "metadata": {},
   "outputs": [],
   "source": [
    "node1 = tf.constant(3.0, tf.float32, name=\"node1\")\n",
    "node2 = tf.constant(4.0, tf.float32, name=\"node2\")\n",
    "result = tf.add(node1, node2, name=\"add\")\n",
    "sess = tf.Session()\n",
    "init = tf.global_variables_initializer()\n",
    "sess.run(init)\n",
    "print(sess.run(result))\n",
    "sess.close()"
   ]
  },
  {
   "cell_type": "code",
   "execution_count": null,
   "metadata": {},
   "outputs": [],
   "source": [
    "import tensorflow as tf\n",
    "value = tf.Variable(0, name=\"value\")\n",
    "sum = tf.Variable(0, name=\"sum_value\")\n",
    "one = tf.constant(1)\n",
    "\n",
    "new_value = tf.add(value, one)\n",
    "update_value = tf.assign(value, new_value)\n",
    "new_sum = tf.add(sum, value)\n",
    "update_sum = tf.assign(sum, new_sum)\n",
    "\n",
    "init = tf.global_variables_initializer()\n",
    "with tf.Session() as sess:\n",
    "    sess.run(init)\n",
    "    for _ in range(10):\n",
    "        sess.run(update_value)\n",
    "        sess.run(update_sum)\n",
    "    print(sess.run(sum))\n",
    "sess.close()"
   ]
  },
  {
   "cell_type": "code",
   "execution_count": null,
   "metadata": {},
   "outputs": [],
   "source": [
    "import tensorflow as tf\n",
    "a=tf.placeholder(tf.float32, name='a')\n",
    "b=tf.placeholder(tf.float32, name='b')\n",
    "c=tf.multiply(a, b, name='c')\n",
    "d=tf.subtract(a, b, name='d')\n",
    "init=tf.global_variables_initializer()\n",
    "with tf.Session() as sess:\n",
    "    sess.run(init)\n",
    "    result=sess.run([c,d], feed_dict={a:[8.0, 2.0, 3.5], b:[1.5, 2.0, 4.0]})\n",
    "    print(result)\n",
    "    print(result[0])\n",
    "sess.close()"
   ]
  },
  {
   "cell_type": "code",
   "execution_count": null,
   "metadata": {
    "collapsed": true
   },
   "outputs": [],
   "source": [
    "import tensorflow as tf\n",
    "tf.reset_default_graph()\n",
    "logdir='G:\\XX\\Jupyter Notebook\\log'\n",
    "input1=tf.constant([1.0, 2.0, 3.0], name=\"input1\")\n",
    "input2=tf.Variable(tf.random_uniform([3]), name=\"input2\")\n",
    "output=tf.add_n([input1, input2], name=\"add\")\n",
    "\n",
    "writer = tf.summary.FileWriter(logdir, tf.get_default_graph())\n",
    "writer.close()"
   ]
  },
  {
   "cell_type": "code",
   "execution_count": 1,
   "metadata": {},
   "outputs": [
    {
     "data": {
      "text/plain": [
       "[<matplotlib.lines.Line2D at 0x7e3bc18>]"
      ]
     },
     "execution_count": 1,
     "metadata": {},
     "output_type": "execute_result"
    },
    {
     "data": {
      "image/png": "[encoded data removed]",
      "text/plain": [
       "<matplotlib.figure.Figure at 0x512b9e8>"
      ]
     },
     "metadata": {},
     "output_type": "display_data"
    }
   ],
   "source": [
    "%matplotlib inline\n",
    "import matplotlib.pyplot as plt\n",
    "import numpy as np\n",
    "import tensorflow as tf\n",
    "np.random.seed(5)\n",
    "x_data=np.linspace(-1, 1, 100)\n",
    "y_data=2 * x_data + 1.0 + np.random.randn(*x_data.shape)*0.4\n",
    "plt.scatter(x_data, y_data)\n",
    "plt.plot(x_data, 1.0+2.0*x_data, color='red', linewidth=3)"
   ]
  },
  {
   "cell_type": "code",
   "execution_count": 2,
   "metadata": {},
   "outputs": [],
   "source": [
    "x=tf.placeholder(\"float\", name=\"x\")\n",
    "y=tf.placeholder(\"float\", name=\"y\")\n",
    "def model(x, w, b):\n",
    "    return tf.multiply(x, w) + b\n",
    "w=tf.Variable(1.0, name=\"w0\")\n",
    "b=tf.Variable(0.0, name=\"b0\")\n",
    "pred=model(x, w, b)\n",
    "\n",
    "train_epochs=10\n",
    "learning_rate=0.05\n",
    "# 控制显示loss值得粒度\n",
    "display_step=10\n",
    "loss_function=tf.reduce_mean(tf.square(y-pred))\n",
    "optimizer=tf.train.GradientDescentOptimizer(learning_rate).minimize(loss_function)\n",
    "\n",
    "sess=tf.Session()\n",
    "init=tf.global_variables_initializer()\n",
    "sess.run(init)"
   ]
  },
  {
   "cell_type": "code",
   "execution_count": 3,
   "metadata": {},
   "outputs": [
    {
     "name": "stdout",
     "output_type": "stream",
     "text": [
      "Train Epoch: 01 Step:010 loss= 0.007021904\n",
      "Train Epoch: 01 Step:020 loss= 0.186607897\n",
      "Train Epoch: 01 Step:030 loss= 0.024833022\n",
      "Train Epoch: 01 Step:040 loss= 0.620799541\n",
      "Train Epoch: 01 Step:050 loss= 0.006301077\n",
      "Train Epoch: 01 Step:060 loss= 0.023637433\n",
      "Train Epoch: 01 Step:070 loss= 0.354419798\n",
      "Train Epoch: 01 Step:080 loss= 0.027936857\n",
      "Train Epoch: 01 Step:090 loss= 0.029015331\n",
      "Train Epoch: 01 Step:100 loss= 0.106556907\n",
      "Train Epoch: 02 Step:110 loss= 0.179423183\n",
      "Train Epoch: 02 Step:120 loss= 0.067458346\n",
      "Train Epoch: 02 Step:130 loss= 0.000281519\n",
      "Train Epoch: 02 Step:140 loss= 0.344065875\n",
      "Train Epoch: 02 Step:150 loss= 0.021391280\n",
      "Train Epoch: 02 Step:160 loss= 0.006406436\n",
      "Train Epoch: 02 Step:170 loss= 0.142010629\n",
      "Train Epoch: 02 Step:180 loss= 0.000233675\n",
      "Train Epoch: 02 Step:190 loss= 0.094913408\n",
      "Train Epoch: 02 Step:200 loss= 0.052370854\n",
      "Train Epoch: 03 Step:210 loss= 0.044097763\n",
      "Train Epoch: 03 Step:220 loss= 0.082669340\n",
      "Train Epoch: 03 Step:230 loss= 0.000454877\n",
      "Train Epoch: 03 Step:240 loss= 0.327929199\n",
      "Train Epoch: 03 Step:250 loss= 0.026971471\n",
      "Train Epoch: 03 Step:260 loss= 0.009875795\n",
      "Train Epoch: 03 Step:270 loss= 0.128553197\n",
      "Train Epoch: 03 Step:280 loss= 0.000938686\n",
      "Train Epoch: 03 Step:290 loss= 0.102202758\n",
      "Train Epoch: 03 Step:300 loss= 0.048671149\n",
      "Train Epoch: 04 Step:310 loss= 0.036854628\n",
      "Train Epoch: 04 Step:320 loss= 0.084023297\n",
      "Train Epoch: 04 Step:330 loss= 0.000471393\n",
      "Train Epoch: 04 Step:340 loss= 0.326585472\n",
      "Train Epoch: 04 Step:350 loss= 0.027471786\n",
      "Train Epoch: 04 Step:360 loss= 0.010202700\n",
      "Train Epoch: 04 Step:370 loss= 0.127448648\n",
      "Train Epoch: 04 Step:380 loss= 0.001019721\n",
      "Train Epoch: 04 Step:390 loss= 0.102829941\n",
      "Train Epoch: 04 Step:400 loss= 0.048365295\n",
      "Train Epoch: 05 Step:410 loss= 0.036273275\n",
      "Train Epoch: 05 Step:420 loss= 0.084138028\n",
      "Train Epoch: 05 Step:430 loss= 0.000472802\n",
      "Train Epoch: 05 Step:440 loss= 0.326472342\n",
      "Train Epoch: 05 Step:450 loss= 0.027514204\n",
      "Train Epoch: 05 Step:460 loss= 0.010230534\n",
      "Train Epoch: 05 Step:470 loss= 0.127355635\n",
      "Train Epoch: 05 Step:480 loss= 0.001026707\n",
      "Train Epoch: 05 Step:490 loss= 0.102882855\n",
      "Train Epoch: 05 Step:500 loss= 0.048339501\n",
      "Train Epoch: 06 Step:510 loss= 0.036224432\n",
      "Train Epoch: 06 Step:520 loss= 0.084147744\n",
      "Train Epoch: 06 Step:530 loss= 0.000472908\n",
      "Train Epoch: 06 Step:540 loss= 0.326462865\n",
      "Train Epoch: 06 Step:550 loss= 0.027517686\n",
      "Train Epoch: 06 Step:560 loss= 0.010232801\n",
      "Train Epoch: 06 Step:570 loss= 0.127347812\n",
      "Train Epoch: 06 Step:580 loss= 0.001027287\n",
      "Train Epoch: 06 Step:590 loss= 0.102887444\n",
      "Train Epoch: 06 Step:600 loss= 0.048337404\n",
      "Train Epoch: 07 Step:610 loss= 0.036220346\n",
      "Train Epoch: 07 Step:620 loss= 0.084148541\n",
      "Train Epoch: 07 Step:630 loss= 0.000472921\n",
      "Train Epoch: 07 Step:640 loss= 0.326461911\n",
      "Train Epoch: 07 Step:650 loss= 0.027518081\n",
      "Train Epoch: 07 Step:660 loss= 0.010233018\n",
      "Train Epoch: 07 Step:670 loss= 0.127347127\n",
      "Train Epoch: 07 Step:680 loss= 0.001027349\n",
      "Train Epoch: 07 Step:690 loss= 0.102887906\n",
      "Train Epoch: 07 Step:700 loss= 0.048337195\n",
      "Train Epoch: 08 Step:710 loss= 0.036220029\n",
      "Train Epoch: 08 Step:720 loss= 0.084148541\n",
      "Train Epoch: 08 Step:730 loss= 0.000472929\n",
      "Train Epoch: 08 Step:740 loss= 0.326461911\n",
      "Train Epoch: 08 Step:750 loss= 0.027518081\n",
      "Train Epoch: 08 Step:760 loss= 0.010233042\n",
      "Train Epoch: 08 Step:770 loss= 0.127347127\n",
      "Train Epoch: 08 Step:780 loss= 0.001027349\n",
      "Train Epoch: 08 Step:790 loss= 0.102888055\n",
      "Train Epoch: 08 Step:800 loss= 0.048337195\n",
      "Train Epoch: 09 Step:810 loss= 0.036219940\n",
      "Train Epoch: 09 Step:820 loss= 0.084148541\n",
      "Train Epoch: 09 Step:830 loss= 0.000472929\n",
      "Train Epoch: 09 Step:840 loss= 0.326461911\n",
      "Train Epoch: 09 Step:850 loss= 0.027518081\n",
      "Train Epoch: 09 Step:860 loss= 0.010233042\n",
      "Train Epoch: 09 Step:870 loss= 0.127347127\n",
      "Train Epoch: 09 Step:880 loss= 0.001027349\n",
      "Train Epoch: 09 Step:890 loss= 0.102888055\n",
      "Train Epoch: 09 Step:900 loss= 0.048337195\n",
      "Train Epoch: 10 Step:910 loss= 0.036219940\n",
      "Train Epoch: 10 Step:920 loss= 0.084148541\n",
      "Train Epoch: 10 Step:930 loss= 0.000472929\n",
      "Train Epoch: 10 Step:940 loss= 0.326461911\n",
      "Train Epoch: 10 Step:950 loss= 0.027518081\n",
      "Train Epoch: 10 Step:960 loss= 0.010233042\n",
      "Train Epoch: 10 Step:970 loss= 0.127347127\n",
      "Train Epoch: 10 Step:980 loss= 0.001027349\n",
      "Train Epoch: 10 Step:990 loss= 0.102888055\n",
      "Train Epoch: 10 Step:1000 loss= 0.048337195\n"
     ]
    },
    {
     "data": {
      "image/png": "[encoded data removed]",
      "text/plain": [
       "<matplotlib.figure.Figure at 0xeb0ebe0>"
      ]
     },
     "metadata": {},
     "output_type": "display_data"
    }
   ],
   "source": [
    "# 开始训练，轮数为epoch，采用SGD随机梯度下降优化方法\n",
    "step=0\n",
    "loss_list=[]\n",
    "for epoch in range(train_epochs):\n",
    "    for xs, ys in zip(x_data, y_data):\n",
    "        _, loss=sess.run([optimizer, loss_function], feed_dict={x:xs, y:ys})\n",
    "        loss_list.append(loss)\n",
    "        step=step+1\n",
    "        if step % display_step == 0:\n",
    "            print(\"Train Epoch:\", \"%02d\" % (epoch+1), \"Step:%03d\" % (step), \"loss=\", \"{:.9f}\".format(loss))\n",
    "    b0temp=b.eval(session=sess)\n",
    "    w0temp=w.eval(session=sess)\n",
    "    plt.plot(x_data, w0temp*x_data+b0temp)"
   ]
  },
  {
   "cell_type": "code",
   "execution_count": 5,
   "metadata": {},
   "outputs": [
    {
     "data": {
      "text/plain": [
       "[1.0133754,\n",
       " 1.2284044,\n",
       " 1.0088208,\n",
       " 1.2116321,\n",
       " 2.3539772,\n",
       " 2.3148305,\n",
       " 1.3175836,\n",
       " 1.0387748,\n",
       " 1.5018207,\n",
       " 1.547514,\n",
       " 1.5514,\n",
       " 1.5517284,\n",
       " 1.5517554,\n",
       " 1.551758,\n",
       " 1.551758,\n",
       " 1.551758,\n",
       " 1.551758]"
      ]
     },
     "execution_count": 5,
     "metadata": {},
     "output_type": "execute_result"
    },
    {
     "data": {
      "image/png": "[encoded data removed]",
      "text/plain": [
       "<matplotlib.figure.Figure at 0xee869e8>"
      ]
     },
     "metadata": {},
     "output_type": "display_data"
    }
   ],
   "source": [
    "plt.plot(loss_list, 'r+')\n",
    "[x for x in loss_list if x>1]"
   ]
  },
  {
   "cell_type": "code",
   "execution_count": null,
   "metadata": {},
   "outputs": [],
   "source": [
    "print(\"w:\", sess.run(w))\n",
    "print(\"b:\", sess.run(b))\n",
    "plt.scatter(x_data, y_data, label=\"Original data\")\n",
    "plt.plot(x_data, sess.run(b)+sess.run(w)*x_data, label=\"Fitted line\", color='red', linewidth=3)\n",
    "plt.legend(loc=2)"
   ]
  },
  {
   "cell_type": "code",
   "execution_count": null,
   "metadata": {},
   "outputs": [],
   "source": [
    "x_test=3.21\n",
    "predict=sess.run(pred, feed_dict={x: x_test})\n",
    "print(\"预测值：%f\" % predict)\n",
    "target=2.0*x_test+1.0\n",
    "print(\"目标值：%f\" % target)"
   ]
  },
  {
   "cell_type": "code",
   "execution_count": null,
   "metadata": {
    "collapsed": true
   },
   "outputs": [],
   "source": []
  }
 ],
 "metadata": {
  "kernelspec": {
   "display_name": "Python 3",
   "language": "python",
   "name": "python3"
  },
  "language_info": {
   "codemirror_mode": {
    "name": "ipython",
    "version": 3
   },
   "file_extension": ".py",
   "mimetype": "text/x-python",
   "name": "python",
   "nbconvert_exporter": "python",
   "pygments_lexer": "ipython3",
   "version": "3.6.8"
  }
 },
 "nbformat": 4,
 "nbformat_minor": 2
}
