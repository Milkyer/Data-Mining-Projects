{
 "cells": [
  {
   "cell_type": "code",
   "execution_count": 2,
   "metadata": {
    "collapsed": true
   },
   "outputs": [
    {
     "name": "stdout",
     "output_type": "stream",
     "text": [
      "WARNING:tensorflow:From <ipython-input-2-8570fe2c41ea>:3: read_data_sets (from tensorflow.contrib.learn.python.learn.datasets.mnist) is deprecated and will be removed in a future version.\n",
      "Instructions for updating:\n",
      "Please use alternatives such as official/mnist/dataset.py from tensorflow/models.\n",
      "WARNING:tensorflow:From C:\\ProgramData\\Anaconda3\\lib\\site-packages\\tensorflow\\contrib\\learn\\python\\learn\\datasets\\mnist.py:261: maybe_download (from tensorflow.contrib.learn.python.learn.datasets.base) is deprecated and will be removed in a future version.\n",
      "Instructions for updating:\n",
      "Please write your own downloading logic.\n",
      "WARNING:tensorflow:From C:\\ProgramData\\Anaconda3\\lib\\site-packages\\tensorflow\\contrib\\learn\\python\\learn\\datasets\\mnist.py:263: extract_images (from tensorflow.contrib.learn.python.learn.datasets.mnist) is deprecated and will be removed in a future version.\n",
      "Instructions for updating:\n",
      "Please use tf.data to implement this functionality.\n",
      "Extracting MNIST_data/train-images-idx3-ubyte.gz\n",
      "WARNING:tensorflow:From C:\\ProgramData\\Anaconda3\\lib\\site-packages\\tensorflow\\contrib\\learn\\python\\learn\\datasets\\mnist.py:268: extract_labels (from tensorflow.contrib.learn.python.learn.datasets.mnist) is deprecated and will be removed in a future version.\n",
      "Instructions for updating:\n",
      "Please use tf.data to implement this functionality.\n",
      "Extracting MNIST_data/train-labels-idx1-ubyte.gz\n",
      "WARNING:tensorflow:From C:\\ProgramData\\Anaconda3\\lib\\site-packages\\tensorflow\\contrib\\learn\\python\\learn\\datasets\\mnist.py:111: dense_to_one_hot (from tensorflow.contrib.learn.python.learn.datasets.mnist) is deprecated and will be removed in a future version.\n",
      "Instructions for updating:\n",
      "Please use tf.one_hot on tensors.\n",
      "Extracting MNIST_data/t10k-images-idx3-ubyte.gz\n",
      "Extracting MNIST_data/t10k-labels-idx1-ubyte.gz\n",
      "WARNING:tensorflow:From C:\\ProgramData\\Anaconda3\\lib\\site-packages\\tensorflow\\contrib\\learn\\python\\learn\\datasets\\mnist.py:291: DataSet.__init__ (from tensorflow.contrib.learn.python.learn.datasets.mnist) is deprecated and will be removed in a future version.\n",
      "Instructions for updating:\n",
      "Please use alternatives such as official/mnist/dataset.py from tensorflow/models.\n"
     ]
    }
   ],
   "source": [
    "import tensorflow as tf\n",
    "import tensorflow.examples.tutorials.mnist.input_data as input_data\n",
    "mnist = input_data.read_data_sets(\"MNIST_data/\", one_hot=True)"
   ]
  },
  {
   "cell_type": "code",
   "execution_count": 3,
   "metadata": {},
   "outputs": [
    {
     "name": "stdout",
     "output_type": "stream",
     "text": [
      "训练集train数量： 55000 ,验证集validation数量： 5000 ，测试集test数量： 10000\n",
      "train images shape： (55000, 784) labels shape: (55000, 10)\n",
      "validation images shape： (5000, 784) labels shape: (5000, 10)\n",
      "test images shape： (10000, 784) labels shape: (10000, 10)\n"
     ]
    }
   ],
   "source": [
    "print('训练集train数量：', mnist.train.num_examples, ',验证集validation数量：', mnist.validation.num_examples, '，测试集test数量：', mnist.test.num_examples)\n",
    "print('train images shape：', mnist.train.images.shape, 'labels shape:', mnist.train.labels.shape)\n",
    "print('validation images shape：', mnist.validation.images.shape, 'labels shape:', mnist.validation.labels.shape)\n",
    "print('test images shape：', mnist.test.images.shape, 'labels shape:', mnist.test.labels.shape)"
   ]
  },
  {
   "cell_type": "code",
   "execution_count": 7,
   "metadata": {},
   "outputs": [
    {
     "data": {
      "text/plain": [
       "784"
      ]
     },
     "execution_count": 7,
     "metadata": {},
     "output_type": "execute_result"
    }
   ],
   "source": [
    "len(mnist.train.images[0])  # images图像28*28"
   ]
  },
  {
   "cell_type": "code",
   "execution_count": 6,
   "metadata": {},
   "outputs": [
    {
     "data": {
      "text/plain": [
       "(784,)"
      ]
     },
     "execution_count": 6,
     "metadata": {},
     "output_type": "execute_result"
    }
   ],
   "source": [
    "mnist.train.images[0].shape"
   ]
  },
  {
   "cell_type": "code",
   "execution_count": 8,
   "metadata": {
    "collapsed": true
   },
   "outputs": [
    {
     "data": {
      "text/plain": [
       "array([0.        , 0.        , 0.        , 0.        , 0.        ,\n",
       "       0.        , 0.        , 0.        , 0.        , 0.        ,\n",
       "       0.        , 0.        , 0.        , 0.        , 0.        ,\n",
       "       0.        , 0.        , 0.        , 0.        , 0.        ,\n",
       "       0.        , 0.        , 0.        , 0.        , 0.        ,\n",
       "       0.        , 0.        , 0.        , 0.        , 0.        ,\n",
       "       0.        , 0.        , 0.        , 0.        , 0.        ,\n",
       "       0.        , 0.        , 0.        , 0.        , 0.        ,\n",
       "       0.        , 0.        , 0.        , 0.        , 0.        ,\n",
       "       0.        , 0.        , 0.        , 0.        , 0.        ,\n",
       "       0.        , 0.        , 0.        , 0.        , 0.        ,\n",
       "       0.        , 0.        , 0.        , 0.        , 0.        ,\n",
       "       0.        , 0.        , 0.        , 0.        , 0.        ,\n",
       "       0.        , 0.        , 0.        , 0.        , 0.        ,\n",
       "       0.        , 0.        , 0.        , 0.        , 0.        ,\n",
       "       0.        , 0.        , 0.        , 0.        , 0.        ,\n",
       "       0.        , 0.        , 0.        , 0.        , 0.        ,\n",
       "       0.        , 0.        , 0.        , 0.        , 0.        ,\n",
       "       0.        , 0.        , 0.        , 0.        , 0.        ,\n",
       "       0.        , 0.        , 0.        , 0.        , 0.        ,\n",
       "       0.        , 0.        , 0.        , 0.        , 0.        ,\n",
       "       0.        , 0.        , 0.        , 0.        , 0.        ,\n",
       "       0.        , 0.        , 0.        , 0.        , 0.        ,\n",
       "       0.        , 0.        , 0.        , 0.        , 0.        ,\n",
       "       0.        , 0.        , 0.        , 0.        , 0.        ,\n",
       "       0.        , 0.        , 0.        , 0.        , 0.        ,\n",
       "       0.        , 0.        , 0.        , 0.        , 0.        ,\n",
       "       0.        , 0.        , 0.        , 0.        , 0.        ,\n",
       "       0.        , 0.        , 0.        , 0.        , 0.        ,\n",
       "       0.        , 0.        , 0.        , 0.        , 0.        ,\n",
       "       0.        , 0.        , 0.        , 0.        , 0.        ,\n",
       "       0.        , 0.        , 0.        , 0.        , 0.        ,\n",
       "       0.        , 0.        , 0.        , 0.        , 0.        ,\n",
       "       0.        , 0.        , 0.        , 0.        , 0.        ,\n",
       "       0.        , 0.        , 0.        , 0.        , 0.        ,\n",
       "       0.        , 0.        , 0.        , 0.        , 0.        ,\n",
       "       0.        , 0.        , 0.        , 0.        , 0.        ,\n",
       "       0.        , 0.        , 0.        , 0.        , 0.        ,\n",
       "       0.        , 0.        , 0.        , 0.        , 0.        ,\n",
       "       0.        , 0.        , 0.        , 0.        , 0.        ,\n",
       "       0.        , 0.        , 0.        , 0.        , 0.        ,\n",
       "       0.        , 0.        , 0.3803922 , 0.37647063, 0.3019608 ,\n",
       "       0.46274513, 0.2392157 , 0.        , 0.        , 0.        ,\n",
       "       0.        , 0.        , 0.        , 0.        , 0.        ,\n",
       "       0.        , 0.        , 0.        , 0.        , 0.        ,\n",
       "       0.        , 0.        , 0.3529412 , 0.5411765 , 0.9215687 ,\n",
       "       0.9215687 , 0.9215687 , 0.9215687 , 0.9215687 , 0.9215687 ,\n",
       "       0.9843138 , 0.9843138 , 0.9725491 , 0.9960785 , 0.9607844 ,\n",
       "       0.9215687 , 0.74509805, 0.08235294, 0.        , 0.        ,\n",
       "       0.        , 0.        , 0.        , 0.        , 0.        ,\n",
       "       0.        , 0.        , 0.        , 0.        , 0.54901963,\n",
       "       0.9843138 , 0.9960785 , 0.9960785 , 0.9960785 , 0.9960785 ,\n",
       "       0.9960785 , 0.9960785 , 0.9960785 , 0.9960785 , 0.9960785 ,\n",
       "       0.9960785 , 0.9960785 , 0.9960785 , 0.9960785 , 0.9960785 ,\n",
       "       0.7411765 , 0.09019608, 0.        , 0.        , 0.        ,\n",
       "       0.        , 0.        , 0.        , 0.        , 0.        ,\n",
       "       0.        , 0.        , 0.8862746 , 0.9960785 , 0.81568635,\n",
       "       0.7803922 , 0.7803922 , 0.7803922 , 0.7803922 , 0.54509807,\n",
       "       0.2392157 , 0.2392157 , 0.2392157 , 0.2392157 , 0.2392157 ,\n",
       "       0.5019608 , 0.8705883 , 0.9960785 , 0.9960785 , 0.7411765 ,\n",
       "       0.08235294, 0.        , 0.        , 0.        , 0.        ,\n",
       "       0.        , 0.        , 0.        , 0.        , 0.        ,\n",
       "       0.14901961, 0.32156864, 0.0509804 , 0.        , 0.        ,\n",
       "       0.        , 0.        , 0.        , 0.        , 0.        ,\n",
       "       0.        , 0.        , 0.        , 0.        , 0.13333334,\n",
       "       0.8352942 , 0.9960785 , 0.9960785 , 0.45098042, 0.        ,\n",
       "       0.        , 0.        , 0.        , 0.        , 0.        ,\n",
       "       0.        , 0.        , 0.        , 0.        , 0.        ,\n",
       "       0.        , 0.        , 0.        , 0.        , 0.        ,\n",
       "       0.        , 0.        , 0.        , 0.        , 0.        ,\n",
       "       0.        , 0.        , 0.        , 0.32941177, 0.9960785 ,\n",
       "       0.9960785 , 0.9176471 , 0.        , 0.        , 0.        ,\n",
       "       0.        , 0.        , 0.        , 0.        , 0.        ,\n",
       "       0.        , 0.        , 0.        , 0.        , 0.        ,\n",
       "       0.        , 0.        , 0.        , 0.        , 0.        ,\n",
       "       0.        , 0.        , 0.        , 0.        , 0.        ,\n",
       "       0.        , 0.32941177, 0.9960785 , 0.9960785 , 0.9176471 ,\n",
       "       0.        , 0.        , 0.        , 0.        , 0.        ,\n",
       "       0.        , 0.        , 0.        , 0.        , 0.        ,\n",
       "       0.        , 0.        , 0.        , 0.        , 0.        ,\n",
       "       0.        , 0.        , 0.        , 0.        , 0.        ,\n",
       "       0.        , 0.        , 0.        , 0.4156863 , 0.6156863 ,\n",
       "       0.9960785 , 0.9960785 , 0.95294124, 0.20000002, 0.        ,\n",
       "       0.        , 0.        , 0.        , 0.        , 0.        ,\n",
       "       0.        , 0.        , 0.        , 0.        , 0.        ,\n",
       "       0.        , 0.        , 0.        , 0.        , 0.        ,\n",
       "       0.        , 0.09803922, 0.45882356, 0.8941177 , 0.8941177 ,\n",
       "       0.8941177 , 0.9921569 , 0.9960785 , 0.9960785 , 0.9960785 ,\n",
       "       0.9960785 , 0.94117653, 0.        , 0.        , 0.        ,\n",
       "       0.        , 0.        , 0.        , 0.        , 0.        ,\n",
       "       0.        , 0.        , 0.        , 0.        , 0.        ,\n",
       "       0.        , 0.        , 0.26666668, 0.4666667 , 0.86274517,\n",
       "       0.9960785 , 0.9960785 , 0.9960785 , 0.9960785 , 0.9960785 ,\n",
       "       0.9960785 , 0.9960785 , 0.9960785 , 0.9960785 , 0.5568628 ,\n",
       "       0.        , 0.        , 0.        , 0.        , 0.        ,\n",
       "       0.        , 0.        , 0.        , 0.        , 0.        ,\n",
       "       0.        , 0.        , 0.        , 0.14509805, 0.73333335,\n",
       "       0.9921569 , 0.9960785 , 0.9960785 , 0.9960785 , 0.8745099 ,\n",
       "       0.8078432 , 0.8078432 , 0.29411766, 0.26666668, 0.8431373 ,\n",
       "       0.9960785 , 0.9960785 , 0.45882356, 0.        , 0.        ,\n",
       "       0.        , 0.        , 0.        , 0.        , 0.        ,\n",
       "       0.        , 0.        , 0.        , 0.        , 0.        ,\n",
       "       0.4431373 , 0.8588236 , 0.9960785 , 0.9490197 , 0.89019614,\n",
       "       0.45098042, 0.34901962, 0.12156864, 0.        , 0.        ,\n",
       "       0.        , 0.        , 0.7843138 , 0.9960785 , 0.9450981 ,\n",
       "       0.16078432, 0.        , 0.        , 0.        , 0.        ,\n",
       "       0.        , 0.        , 0.        , 0.        , 0.        ,\n",
       "       0.        , 0.        , 0.        , 0.6627451 , 0.9960785 ,\n",
       "       0.6901961 , 0.24313727, 0.        , 0.        , 0.        ,\n",
       "       0.        , 0.        , 0.        , 0.        , 0.18823531,\n",
       "       0.9058824 , 0.9960785 , 0.9176471 , 0.        , 0.        ,\n",
       "       0.        , 0.        , 0.        , 0.        , 0.        ,\n",
       "       0.        , 0.        , 0.        , 0.        , 0.        ,\n",
       "       0.        , 0.07058824, 0.48627454, 0.        , 0.        ,\n",
       "       0.        , 0.        , 0.        , 0.        , 0.        ,\n",
       "       0.        , 0.        , 0.32941177, 0.9960785 , 0.9960785 ,\n",
       "       0.6509804 , 0.        , 0.        , 0.        , 0.        ,\n",
       "       0.        , 0.        , 0.        , 0.        , 0.        ,\n",
       "       0.        , 0.        , 0.        , 0.        , 0.        ,\n",
       "       0.        , 0.        , 0.        , 0.        , 0.        ,\n",
       "       0.        , 0.        , 0.        , 0.        , 0.        ,\n",
       "       0.54509807, 0.9960785 , 0.9333334 , 0.22352943, 0.        ,\n",
       "       0.        , 0.        , 0.        , 0.        , 0.        ,\n",
       "       0.        , 0.        , 0.        , 0.        , 0.        ,\n",
       "       0.        , 0.        , 0.        , 0.        , 0.        ,\n",
       "       0.        , 0.        , 0.        , 0.        , 0.        ,\n",
       "       0.        , 0.        , 0.8235295 , 0.9803922 , 0.9960785 ,\n",
       "       0.65882355, 0.        , 0.        , 0.        , 0.        ,\n",
       "       0.        , 0.        , 0.        , 0.        , 0.        ,\n",
       "       0.        , 0.        , 0.        , 0.        , 0.        ,\n",
       "       0.        , 0.        , 0.        , 0.        , 0.        ,\n",
       "       0.        , 0.        , 0.        , 0.        , 0.        ,\n",
       "       0.9490197 , 0.9960785 , 0.93725497, 0.22352943, 0.        ,\n",
       "       0.        , 0.        , 0.        , 0.        , 0.        ,\n",
       "       0.        , 0.        , 0.        , 0.        , 0.        ,\n",
       "       0.        , 0.        , 0.        , 0.        , 0.        ,\n",
       "       0.        , 0.        , 0.        , 0.        , 0.        ,\n",
       "       0.        , 0.        , 0.34901962, 0.9843138 , 0.9450981 ,\n",
       "       0.3372549 , 0.        , 0.        , 0.        , 0.        ,\n",
       "       0.        , 0.        , 0.        , 0.        , 0.        ,\n",
       "       0.        , 0.        , 0.        , 0.        , 0.        ,\n",
       "       0.        , 0.        , 0.        , 0.        , 0.        ,\n",
       "       0.        , 0.        , 0.        , 0.        , 0.01960784,\n",
       "       0.8078432 , 0.96470594, 0.6156863 , 0.        , 0.        ,\n",
       "       0.        , 0.        , 0.        , 0.        , 0.        ,\n",
       "       0.        , 0.        , 0.        , 0.        , 0.        ,\n",
       "       0.        , 0.        , 0.        , 0.        , 0.        ,\n",
       "       0.        , 0.        , 0.        , 0.        , 0.        ,\n",
       "       0.        , 0.        , 0.01568628, 0.45882356, 0.27058825,\n",
       "       0.        , 0.        , 0.        , 0.        , 0.        ,\n",
       "       0.        , 0.        , 0.        , 0.        , 0.        ,\n",
       "       0.        , 0.        , 0.        , 0.        , 0.        ,\n",
       "       0.        , 0.        , 0.        , 0.        , 0.        ,\n",
       "       0.        , 0.        , 0.        , 0.        , 0.        ,\n",
       "       0.        , 0.        , 0.        , 0.        , 0.        ,\n",
       "       0.        , 0.        , 0.        , 0.        , 0.        ,\n",
       "       0.        , 0.        , 0.        , 0.        ], dtype=float32)"
      ]
     },
     "execution_count": 8,
     "metadata": {},
     "output_type": "execute_result"
    }
   ],
   "source": [
    "mnist.train.images[0]"
   ]
  },
  {
   "cell_type": "code",
   "execution_count": 10,
   "metadata": {
    "collapsed": true
   },
   "outputs": [
    {
     "data": {
      "text/plain": [
       "array([[0.        , 0.        , 0.        , 0.        , 0.        ,\n",
       "        0.        , 0.        , 0.        , 0.        , 0.        ,\n",
       "        0.        , 0.        , 0.        , 0.        , 0.        ,\n",
       "        0.        , 0.        , 0.        , 0.        , 0.        ,\n",
       "        0.        , 0.        , 0.        , 0.        , 0.        ,\n",
       "        0.        , 0.        , 0.        ],\n",
       "       [0.        , 0.        , 0.        , 0.        , 0.        ,\n",
       "        0.        , 0.        , 0.        , 0.        , 0.        ,\n",
       "        0.        , 0.        , 0.        , 0.        , 0.        ,\n",
       "        0.        , 0.        , 0.        , 0.        , 0.        ,\n",
       "        0.        , 0.        , 0.        , 0.        , 0.        ,\n",
       "        0.        , 0.        , 0.        ],\n",
       "       [0.        , 0.        , 0.        , 0.        , 0.        ,\n",
       "        0.        , 0.        , 0.        , 0.        , 0.        ,\n",
       "        0.        , 0.        , 0.        , 0.        , 0.        ,\n",
       "        0.        , 0.        , 0.        , 0.        , 0.        ,\n",
       "        0.        , 0.        , 0.        , 0.        , 0.        ,\n",
       "        0.        , 0.        , 0.        ],\n",
       "       [0.        , 0.        , 0.        , 0.        , 0.        ,\n",
       "        0.        , 0.        , 0.        , 0.        , 0.        ,\n",
       "        0.        , 0.        , 0.        , 0.        , 0.        ,\n",
       "        0.        , 0.        , 0.        , 0.        , 0.        ,\n",
       "        0.        , 0.        , 0.        , 0.        , 0.        ,\n",
       "        0.        , 0.        , 0.        ],\n",
       "       [0.        , 0.        , 0.        , 0.        , 0.        ,\n",
       "        0.        , 0.        , 0.        , 0.        , 0.        ,\n",
       "        0.        , 0.        , 0.        , 0.        , 0.        ,\n",
       "        0.        , 0.        , 0.        , 0.        , 0.        ,\n",
       "        0.        , 0.        , 0.        , 0.        , 0.        ,\n",
       "        0.        , 0.        , 0.        ],\n",
       "       [0.        , 0.        , 0.        , 0.        , 0.        ,\n",
       "        0.        , 0.        , 0.        , 0.        , 0.        ,\n",
       "        0.        , 0.        , 0.        , 0.        , 0.        ,\n",
       "        0.        , 0.        , 0.        , 0.        , 0.        ,\n",
       "        0.        , 0.        , 0.        , 0.        , 0.        ,\n",
       "        0.        , 0.        , 0.        ],\n",
       "       [0.        , 0.        , 0.        , 0.        , 0.        ,\n",
       "        0.        , 0.        , 0.        , 0.        , 0.        ,\n",
       "        0.        , 0.        , 0.        , 0.        , 0.        ,\n",
       "        0.        , 0.        , 0.        , 0.        , 0.        ,\n",
       "        0.        , 0.        , 0.        , 0.        , 0.        ,\n",
       "        0.        , 0.        , 0.        ],\n",
       "       [0.        , 0.        , 0.        , 0.        , 0.        ,\n",
       "        0.        , 0.        , 0.        , 0.        , 0.        ,\n",
       "        0.        , 0.3803922 , 0.37647063, 0.3019608 , 0.46274513,\n",
       "        0.2392157 , 0.        , 0.        , 0.        , 0.        ,\n",
       "        0.        , 0.        , 0.        , 0.        , 0.        ,\n",
       "        0.        , 0.        , 0.        ],\n",
       "       [0.        , 0.        , 0.        , 0.3529412 , 0.5411765 ,\n",
       "        0.9215687 , 0.9215687 , 0.9215687 , 0.9215687 , 0.9215687 ,\n",
       "        0.9215687 , 0.9843138 , 0.9843138 , 0.9725491 , 0.9960785 ,\n",
       "        0.9607844 , 0.9215687 , 0.74509805, 0.08235294, 0.        ,\n",
       "        0.        , 0.        , 0.        , 0.        , 0.        ,\n",
       "        0.        , 0.        , 0.        ],\n",
       "       [0.        , 0.        , 0.54901963, 0.9843138 , 0.9960785 ,\n",
       "        0.9960785 , 0.9960785 , 0.9960785 , 0.9960785 , 0.9960785 ,\n",
       "        0.9960785 , 0.9960785 , 0.9960785 , 0.9960785 , 0.9960785 ,\n",
       "        0.9960785 , 0.9960785 , 0.9960785 , 0.7411765 , 0.09019608,\n",
       "        0.        , 0.        , 0.        , 0.        , 0.        ,\n",
       "        0.        , 0.        , 0.        ],\n",
       "       [0.        , 0.        , 0.8862746 , 0.9960785 , 0.81568635,\n",
       "        0.7803922 , 0.7803922 , 0.7803922 , 0.7803922 , 0.54509807,\n",
       "        0.2392157 , 0.2392157 , 0.2392157 , 0.2392157 , 0.2392157 ,\n",
       "        0.5019608 , 0.8705883 , 0.9960785 , 0.9960785 , 0.7411765 ,\n",
       "        0.08235294, 0.        , 0.        , 0.        , 0.        ,\n",
       "        0.        , 0.        , 0.        ],\n",
       "       [0.        , 0.        , 0.14901961, 0.32156864, 0.0509804 ,\n",
       "        0.        , 0.        , 0.        , 0.        , 0.        ,\n",
       "        0.        , 0.        , 0.        , 0.        , 0.        ,\n",
       "        0.        , 0.13333334, 0.8352942 , 0.9960785 , 0.9960785 ,\n",
       "        0.45098042, 0.        , 0.        , 0.        , 0.        ,\n",
       "        0.        , 0.        , 0.        ],\n",
       "       [0.        , 0.        , 0.        , 0.        , 0.        ,\n",
       "        0.        , 0.        , 0.        , 0.        , 0.        ,\n",
       "        0.        , 0.        , 0.        , 0.        , 0.        ,\n",
       "        0.        , 0.        , 0.32941177, 0.9960785 , 0.9960785 ,\n",
       "        0.9176471 , 0.        , 0.        , 0.        , 0.        ,\n",
       "        0.        , 0.        , 0.        ],\n",
       "       [0.        , 0.        , 0.        , 0.        , 0.        ,\n",
       "        0.        , 0.        , 0.        , 0.        , 0.        ,\n",
       "        0.        , 0.        , 0.        , 0.        , 0.        ,\n",
       "        0.        , 0.        , 0.32941177, 0.9960785 , 0.9960785 ,\n",
       "        0.9176471 , 0.        , 0.        , 0.        , 0.        ,\n",
       "        0.        , 0.        , 0.        ],\n",
       "       [0.        , 0.        , 0.        , 0.        , 0.        ,\n",
       "        0.        , 0.        , 0.        , 0.        , 0.        ,\n",
       "        0.        , 0.        , 0.        , 0.        , 0.        ,\n",
       "        0.        , 0.4156863 , 0.6156863 , 0.9960785 , 0.9960785 ,\n",
       "        0.95294124, 0.20000002, 0.        , 0.        , 0.        ,\n",
       "        0.        , 0.        , 0.        ],\n",
       "       [0.        , 0.        , 0.        , 0.        , 0.        ,\n",
       "        0.        , 0.        , 0.        , 0.        , 0.        ,\n",
       "        0.        , 0.09803922, 0.45882356, 0.8941177 , 0.8941177 ,\n",
       "        0.8941177 , 0.9921569 , 0.9960785 , 0.9960785 , 0.9960785 ,\n",
       "        0.9960785 , 0.94117653, 0.        , 0.        , 0.        ,\n",
       "        0.        , 0.        , 0.        ],\n",
       "       [0.        , 0.        , 0.        , 0.        , 0.        ,\n",
       "        0.        , 0.        , 0.        , 0.        , 0.26666668,\n",
       "        0.4666667 , 0.86274517, 0.9960785 , 0.9960785 , 0.9960785 ,\n",
       "        0.9960785 , 0.9960785 , 0.9960785 , 0.9960785 , 0.9960785 ,\n",
       "        0.9960785 , 0.5568628 , 0.        , 0.        , 0.        ,\n",
       "        0.        , 0.        , 0.        ],\n",
       "       [0.        , 0.        , 0.        , 0.        , 0.        ,\n",
       "        0.        , 0.        , 0.14509805, 0.73333335, 0.9921569 ,\n",
       "        0.9960785 , 0.9960785 , 0.9960785 , 0.8745099 , 0.8078432 ,\n",
       "        0.8078432 , 0.29411766, 0.26666668, 0.8431373 , 0.9960785 ,\n",
       "        0.9960785 , 0.45882356, 0.        , 0.        , 0.        ,\n",
       "        0.        , 0.        , 0.        ],\n",
       "       [0.        , 0.        , 0.        , 0.        , 0.        ,\n",
       "        0.        , 0.4431373 , 0.8588236 , 0.9960785 , 0.9490197 ,\n",
       "        0.89019614, 0.45098042, 0.34901962, 0.12156864, 0.        ,\n",
       "        0.        , 0.        , 0.        , 0.7843138 , 0.9960785 ,\n",
       "        0.9450981 , 0.16078432, 0.        , 0.        , 0.        ,\n",
       "        0.        , 0.        , 0.        ],\n",
       "       [0.        , 0.        , 0.        , 0.        , 0.        ,\n",
       "        0.        , 0.6627451 , 0.9960785 , 0.6901961 , 0.24313727,\n",
       "        0.        , 0.        , 0.        , 0.        , 0.        ,\n",
       "        0.        , 0.        , 0.18823531, 0.9058824 , 0.9960785 ,\n",
       "        0.9176471 , 0.        , 0.        , 0.        , 0.        ,\n",
       "        0.        , 0.        , 0.        ],\n",
       "       [0.        , 0.        , 0.        , 0.        , 0.        ,\n",
       "        0.        , 0.07058824, 0.48627454, 0.        , 0.        ,\n",
       "        0.        , 0.        , 0.        , 0.        , 0.        ,\n",
       "        0.        , 0.        , 0.32941177, 0.9960785 , 0.9960785 ,\n",
       "        0.6509804 , 0.        , 0.        , 0.        , 0.        ,\n",
       "        0.        , 0.        , 0.        ],\n",
       "       [0.        , 0.        , 0.        , 0.        , 0.        ,\n",
       "        0.        , 0.        , 0.        , 0.        , 0.        ,\n",
       "        0.        , 0.        , 0.        , 0.        , 0.        ,\n",
       "        0.        , 0.        , 0.54509807, 0.9960785 , 0.9333334 ,\n",
       "        0.22352943, 0.        , 0.        , 0.        , 0.        ,\n",
       "        0.        , 0.        , 0.        ],\n",
       "       [0.        , 0.        , 0.        , 0.        , 0.        ,\n",
       "        0.        , 0.        , 0.        , 0.        , 0.        ,\n",
       "        0.        , 0.        , 0.        , 0.        , 0.        ,\n",
       "        0.        , 0.8235295 , 0.9803922 , 0.9960785 , 0.65882355,\n",
       "        0.        , 0.        , 0.        , 0.        , 0.        ,\n",
       "        0.        , 0.        , 0.        ],\n",
       "       [0.        , 0.        , 0.        , 0.        , 0.        ,\n",
       "        0.        , 0.        , 0.        , 0.        , 0.        ,\n",
       "        0.        , 0.        , 0.        , 0.        , 0.        ,\n",
       "        0.        , 0.9490197 , 0.9960785 , 0.93725497, 0.22352943,\n",
       "        0.        , 0.        , 0.        , 0.        , 0.        ,\n",
       "        0.        , 0.        , 0.        ],\n",
       "       [0.        , 0.        , 0.        , 0.        , 0.        ,\n",
       "        0.        , 0.        , 0.        , 0.        , 0.        ,\n",
       "        0.        , 0.        , 0.        , 0.        , 0.        ,\n",
       "        0.34901962, 0.9843138 , 0.9450981 , 0.3372549 , 0.        ,\n",
       "        0.        , 0.        , 0.        , 0.        , 0.        ,\n",
       "        0.        , 0.        , 0.        ],\n",
       "       [0.        , 0.        , 0.        , 0.        , 0.        ,\n",
       "        0.        , 0.        , 0.        , 0.        , 0.        ,\n",
       "        0.        , 0.        , 0.        , 0.        , 0.01960784,\n",
       "        0.8078432 , 0.96470594, 0.6156863 , 0.        , 0.        ,\n",
       "        0.        , 0.        , 0.        , 0.        , 0.        ,\n",
       "        0.        , 0.        , 0.        ],\n",
       "       [0.        , 0.        , 0.        , 0.        , 0.        ,\n",
       "        0.        , 0.        , 0.        , 0.        , 0.        ,\n",
       "        0.        , 0.        , 0.        , 0.        , 0.01568628,\n",
       "        0.45882356, 0.27058825, 0.        , 0.        , 0.        ,\n",
       "        0.        , 0.        , 0.        , 0.        , 0.        ,\n",
       "        0.        , 0.        , 0.        ],\n",
       "       [0.        , 0.        , 0.        , 0.        , 0.        ,\n",
       "        0.        , 0.        , 0.        , 0.        , 0.        ,\n",
       "        0.        , 0.        , 0.        , 0.        , 0.        ,\n",
       "        0.        , 0.        , 0.        , 0.        , 0.        ,\n",
       "        0.        , 0.        , 0.        , 0.        , 0.        ,\n",
       "        0.        , 0.        , 0.        ]], dtype=float32)"
      ]
     },
     "execution_count": 10,
     "metadata": {},
     "output_type": "execute_result"
    }
   ],
   "source": [
    "mnist.train.images[0].reshape(28,28)"
   ]
  },
  {
   "cell_type": "code",
   "execution_count": 18,
   "metadata": {},
   "outputs": [
    {
     "data": {
      "image/png": "[encoded data removed]",
      "text/plain": [
       "<matplotlib.figure.Figure at 0x1111bcc0>"
      ]
     },
     "metadata": {},
     "output_type": "display_data"
    }
   ],
   "source": [
    "import matplotlib.pyplot as plt\n",
    "def plot_image(image):\n",
    "    plt.imshow(image.reshape(28,28), cmap='binary')\n",
    "    plt.show()\n",
    "plot_image(mnist.train.images[1])"
   ]
  },
  {
   "cell_type": "code",
   "execution_count": 16,
   "metadata": {},
   "outputs": [
    {
     "name": "stdout",
     "output_type": "stream",
     "text": [
      "[ 0  1  2  3  4  5  6  7  8  9 10 11 12 13 14 15 16 17 18 19 20 21 22 23\n",
      " 24 25 26 27 28 29 30 31 32 33 34 35 36 37 38 39 40 41 42 43 44 45 46 47\n",
      " 48 49 50 51 52 53 54 55 56 57 58 59 60 61 62 63]\n"
     ]
    },
    {
     "data": {
      "text/plain": [
       "array([[ 0,  1,  2,  3,  4,  5,  6,  7],\n",
       "       [ 8,  9, 10, 11, 12, 13, 14, 15],\n",
       "       [16, 17, 18, 19, 20, 21, 22, 23],\n",
       "       [24, 25, 26, 27, 28, 29, 30, 31],\n",
       "       [32, 33, 34, 35, 36, 37, 38, 39],\n",
       "       [40, 41, 42, 43, 44, 45, 46, 47],\n",
       "       [48, 49, 50, 51, 52, 53, 54, 55],\n",
       "       [56, 57, 58, 59, 60, 61, 62, 63]])"
      ]
     },
     "execution_count": 16,
     "metadata": {},
     "output_type": "execute_result"
    }
   ],
   "source": [
    "import numpy as np\n",
    "int_array=np.array([i for i in range(64)])\n",
    "print(int_array)\n",
    "int_array.reshape(8,8)  # reshape行优先，逐行排列"
   ]
  },
  {
   "cell_type": "code",
   "execution_count": 19,
   "metadata": {},
   "outputs": [
    {
     "data": {
      "text/plain": [
       "3"
      ]
     },
     "execution_count": 19,
     "metadata": {},
     "output_type": "execute_result"
    }
   ],
   "source": [
    "mnist.train.labels[1]   # 独热编码形式\n",
    "# 从独热编码数组中读取出所表示的数字值\n",
    "np.argmax(mnist.train.labels[1])  # argmax返回的是最大数的索引"
   ]
  },
  {
   "cell_type": "code",
   "execution_count": 20,
   "metadata": {
    "collapsed": true
   },
   "outputs": [
    {
     "name": "stdout",
     "output_type": "stream",
     "text": [
      "Extracting MNIST_data/train-images-idx3-ubyte.gz\n",
      "Extracting MNIST_data/train-labels-idx1-ubyte.gz\n",
      "Extracting MNIST_data/t10k-images-idx3-ubyte.gz\n",
      "Extracting MNIST_data/t10k-labels-idx1-ubyte.gz\n",
      "[7 3 4 6 1 8 1 0 9 8]\n"
     ]
    }
   ],
   "source": [
    "mnist_no_one_hot = input_data.read_data_sets(\"MNIST_data/\", one_hot=False)\n",
    "# 非独热编码的标签值\n",
    "print(mnist_no_one_hot.train.labels[0:10])"
   ]
  },
  {
   "cell_type": "code",
   "execution_count": 23,
   "metadata": {},
   "outputs": [
    {
     "name": "stdout",
     "output_type": "stream",
     "text": [
      "[[0. 0. 0. ... 0. 0. 0.]\n",
      " [0. 0. 0. ... 0. 0. 0.]\n",
      " [0. 0. 0. ... 0. 0. 0.]\n",
      " ...\n",
      " [0. 0. 0. ... 0. 0. 0.]\n",
      " [0. 0. 0. ... 0. 0. 0.]\n",
      " [0. 0. 0. ... 0. 0. 0.]]\n",
      "[[0. 0. 0. 0. 0. 0. 0. 1. 0. 0.]\n",
      " [0. 0. 0. 1. 0. 0. 0. 0. 0. 0.]\n",
      " [0. 0. 0. 0. 1. 0. 0. 0. 0. 0.]\n",
      " [0. 0. 0. 0. 0. 0. 1. 0. 0. 0.]\n",
      " [0. 1. 0. 0. 0. 0. 0. 0. 0. 0.]\n",
      " [0. 0. 0. 0. 0. 0. 0. 0. 1. 0.]\n",
      " [0. 1. 0. 0. 0. 0. 0. 0. 0. 0.]\n",
      " [1. 0. 0. 0. 0. 0. 0. 0. 0. 0.]\n",
      " [0. 0. 0. 0. 0. 0. 0. 0. 0. 1.]\n",
      " [0. 0. 0. 0. 0. 0. 0. 0. 1. 0.]]\n"
     ]
    }
   ],
   "source": [
    "print(mnist.train.images[0:10])\n",
    "print(mnist.train.labels[0:10])"
   ]
  },
  {
   "cell_type": "code",
   "execution_count": 27,
   "metadata": {},
   "outputs": [
    {
     "name": "stdout",
     "output_type": "stream",
     "text": [
      "(10, 784) (10, 10)\n",
      "[[0. 0. 0. 0. 0. 0. 0. 1. 0. 0.]\n",
      " [0. 0. 0. 0. 0. 0. 0. 0. 0. 1.]\n",
      " [0. 0. 1. 0. 0. 0. 0. 0. 0. 0.]\n",
      " [0. 1. 0. 0. 0. 0. 0. 0. 0. 0.]\n",
      " [0. 0. 0. 0. 0. 0. 0. 0. 0. 1.]\n",
      " [0. 0. 0. 0. 0. 0. 1. 0. 0. 0.]\n",
      " [0. 0. 0. 0. 0. 1. 0. 0. 0. 0.]\n",
      " [0. 0. 0. 1. 0. 0. 0. 0. 0. 0.]\n",
      " [0. 0. 0. 0. 0. 0. 0. 0. 1. 0.]\n",
      " [0. 0. 0. 0. 0. 0. 0. 0. 1. 0.]]\n"
     ]
    }
   ],
   "source": [
    "# 数据的批量读取 next_batch()实现内部会对数据集先做shuffle\n",
    "batch_images_xs, batch_labels_ys = mnist.train.next_batch(batch_size=10)  # image和标签数据\n",
    "print(batch_images_xs.shape, batch_labels_ys.shape)\n",
    "print(batch_labels_ys)  #每重新运行一次往后读取10个"
   ]
  },
  {
   "cell_type": "code",
   "execution_count": 4,
   "metadata": {
    "collapsed": true
   },
   "outputs": [],
   "source": [
    "# mnist中每张图片共有28*28=784个像素点\n",
    "x = tf.placeholder(tf.float32, [None, 784], name=\"X\")\n",
    "# 0-9一共10个数字即10个类别\n",
    "y = tf.placeholder(tf.float32, [None, 10], name=\"Y\")\n",
    "# 定义变量\n",
    "W = tf.Variable(tf.random_normal([784, 10]), name=\"W\")\n",
    "b = tf.Variable(tf.zeros([10]), name=\"b\")\n",
    "# 用单个神经元构建神经网络\n",
    "forward = tf.matmul(x, W)+b  #前向计算\n",
    "pred = tf.nn.softmax(forward)  #Softmax分类"
   ]
  },
  {
   "cell_type": "code",
   "execution_count": 45,
   "metadata": {
    "collapsed": true
   },
   "outputs": [],
   "source": [
    "# 设置训练参数\n",
    "train_epochs = 50  # 训练轮数\n",
    "batch_size = 50   # 单次训练样本数（批次大小）\n",
    "total_batch = int(mnist.train.num_examples/batch_size)  # 一轮训练有多少批次\n",
    "display_step = 1  # 显示粒度\n",
    "learning_rate = 0.05  # 学习率\n",
    "# 定义交叉熵损失函数\n",
    "loss_function = tf.reduce_mean(-tf.reduce_sum(y*tf.log(pred), reduction_indices=1))\n",
    "# 梯度下降优化器\n",
    "optimizer = tf.train.GradientDescentOptimizer(learning_rate).minimize(loss_function)"
   ]
  },
  {
   "cell_type": "code",
   "execution_count": 46,
   "metadata": {
    "collapsed": true
   },
   "outputs": [],
   "source": [
    "# 检查预测类别tf.argmax(pred,1)与实际类别tf.argmax(y,1)的匹配情况\n",
    "correct_prediction = tf.equal(tf.argmax(pred, 1), tf.argmax(y,1))\n",
    "# 准确率，将布尔值转化为浮点数，并计算平均值\n",
    "accuracy = tf.reduce_mean(tf.cast(correct_prediction, tf.float32))"
   ]
  },
  {
   "cell_type": "code",
   "execution_count": 47,
   "metadata": {
    "collapsed": true
   },
   "outputs": [],
   "source": [
    "sess = tf.Session()\n",
    "init = tf.global_variables_initializer()\n",
    "sess.run(init)"
   ]
  },
  {
   "cell_type": "code",
   "execution_count": 48,
   "metadata": {
    "collapsed": true
   },
   "outputs": [
    {
     "name": "stdout",
     "output_type": "stream",
     "text": [
      "Train Epoch: 01 Loss= 1.261252880 Accuracy= 0.7440\n",
      "Train Epoch: 02 Loss= 0.903792202 Accuracy= 0.8096\n",
      "Train Epoch: 03 Loss= 0.753053248 Accuracy= 0.8348\n",
      "Train Epoch: 04 Loss= 0.676663458 Accuracy= 0.8524\n",
      "Train Epoch: 05 Loss= 0.621370137 Accuracy= 0.8636\n",
      "Train Epoch: 06 Loss= 0.587194800 Accuracy= 0.8728\n",
      "Train Epoch: 07 Loss= 0.555028617 Accuracy= 0.8786\n",
      "Train Epoch: 08 Loss= 0.534038067 Accuracy= 0.8802\n",
      "Train Epoch: 09 Loss= 0.517303705 Accuracy= 0.8848\n",
      "Train Epoch: 10 Loss= 0.497368455 Accuracy= 0.8870\n",
      "Train Epoch: 11 Loss= 0.489362299 Accuracy= 0.8892\n",
      "Train Epoch: 12 Loss= 0.473220766 Accuracy= 0.8908\n",
      "Train Epoch: 13 Loss= 0.461093366 Accuracy= 0.8928\n",
      "Train Epoch: 14 Loss= 0.453457177 Accuracy= 0.8944\n",
      "Train Epoch: 15 Loss= 0.447694093 Accuracy= 0.8958\n",
      "Train Epoch: 16 Loss= 0.437987119 Accuracy= 0.8970\n",
      "Train Epoch: 17 Loss= 0.430691153 Accuracy= 0.8984\n",
      "Train Epoch: 18 Loss= 0.423843563 Accuracy= 0.9000\n",
      "Train Epoch: 19 Loss= 0.421007484 Accuracy= 0.9016\n",
      "Train Epoch: 20 Loss= 0.413238227 Accuracy= 0.9026\n",
      "Train Epoch: 21 Loss= 0.410461128 Accuracy= 0.9034\n",
      "Train Epoch: 22 Loss= 0.404096395 Accuracy= 0.9026\n",
      "Train Epoch: 23 Loss= 0.400703877 Accuracy= 0.9028\n",
      "Train Epoch: 24 Loss= 0.395205975 Accuracy= 0.9038\n",
      "Train Epoch: 25 Loss= 0.392787814 Accuracy= 0.9062\n",
      "Train Epoch: 26 Loss= 0.385854006 Accuracy= 0.9062\n",
      "Train Epoch: 27 Loss= 0.382910728 Accuracy= 0.9068\n",
      "Train Epoch: 28 Loss= 0.381644577 Accuracy= 0.9076\n",
      "Train Epoch: 29 Loss= 0.378434867 Accuracy= 0.9090\n",
      "Train Epoch: 30 Loss= 0.375264168 Accuracy= 0.9076\n",
      "Train Epoch: 31 Loss= 0.373538405 Accuracy= 0.9064\n",
      "Train Epoch: 32 Loss= 0.368052483 Accuracy= 0.9104\n",
      "Train Epoch: 33 Loss= 0.367756307 Accuracy= 0.9092\n",
      "Train Epoch: 34 Loss= 0.363816559 Accuracy= 0.9098\n",
      "Train Epoch: 35 Loss= 0.362464070 Accuracy= 0.9118\n",
      "Train Epoch: 36 Loss= 0.361305326 Accuracy= 0.9116\n",
      "Train Epoch: 37 Loss= 0.358990580 Accuracy= 0.9114\n",
      "Train Epoch: 38 Loss= 0.355460048 Accuracy= 0.9132\n",
      "Train Epoch: 39 Loss= 0.354509145 Accuracy= 0.9110\n",
      "Train Epoch: 40 Loss= 0.353550404 Accuracy= 0.9120\n",
      "Train Epoch: 41 Loss= 0.350809276 Accuracy= 0.9116\n",
      "Train Epoch: 42 Loss= 0.348578721 Accuracy= 0.9126\n",
      "Train Epoch: 43 Loss= 0.348535001 Accuracy= 0.9128\n",
      "Train Epoch: 44 Loss= 0.345497400 Accuracy= 0.9144\n",
      "Train Epoch: 45 Loss= 0.345342100 Accuracy= 0.9124\n",
      "Train Epoch: 46 Loss= 0.344059825 Accuracy= 0.9138\n",
      "Train Epoch: 47 Loss= 0.342528135 Accuracy= 0.9130\n",
      "Train Epoch: 48 Loss= 0.340391248 Accuracy= 0.9154\n",
      "Train Epoch: 49 Loss= 0.339173645 Accuracy= 0.9140\n",
      "Train Epoch: 50 Loss= 0.337507665 Accuracy= 0.9160\n",
      "Train Finished!\n"
     ]
    }
   ],
   "source": [
    "# 开始训练\n",
    "for epoch in range(train_epochs):\n",
    "    for batch in range(total_batch):\n",
    "        xs, ys = mnist.train.next_batch(batch_size)  # 读取批次数据\n",
    "        sess.run(optimizer, feed_dict={x:xs, y:ys})  # 执行批次训练\n",
    "    \n",
    "    # total_batch个批次训练完成后，使用验证数据计算误差与准确率；验证集没有分批\n",
    "    loss, acc = sess.run([loss_function, accuracy], feed_dict={x:mnist.validation.images, y:mnist.validation.labels})\n",
    "    # 打印训练过程中的详细信息\n",
    "    if (epoch+1) % display_step == 0:\n",
    "        print(\"Train Epoch:\", \"%02d\" % (epoch+1), \"Loss=\", \"{:.9f}\".format(loss), \"Accuracy=\", \"{:.4f}\".format(acc))\n",
    "print(\"Train Finished!\")"
   ]
  },
  {
   "cell_type": "code",
   "execution_count": 49,
   "metadata": {},
   "outputs": [
    {
     "name": "stdout",
     "output_type": "stream",
     "text": [
      "Test Accuracy: 0.9083\n"
     ]
    }
   ],
   "source": [
    "# 完成训练后，在测试集上评估模型的准确率\n",
    "accu_test = sess.run(accuracy, feed_dict={x: mnist.test.images, y: mnist.test.labels})\n",
    "print(\"Test Accuracy:\", accu_test)"
   ]
  },
  {
   "cell_type": "code",
   "execution_count": 34,
   "metadata": {},
   "outputs": [
    {
     "name": "stdout",
     "output_type": "stream",
     "text": [
      "[7 2 1 0 4 1 4 9 6 7]\n"
     ]
    }
   ],
   "source": [
    "# 由于pred预测结果是独热编码格式，所以需要转换为0-9数字\n",
    "prediction_result = sess.run(tf.argmax(pred, 1), feed_dict={x:mnist.test.images})\n",
    "# 查看预测结果中的前10项\n",
    "print(prediction_result[0:10])"
   ]
  },
  {
   "cell_type": "code",
   "execution_count": 39,
   "metadata": {},
   "outputs": [
    {
     "data": {
      "image/png": "[encoded data removed]",
      "text/plain": [
       "<matplotlib.figure.Figure at 0x12335358>"
      ]
     },
     "metadata": {},
     "output_type": "display_data"
    }
   ],
   "source": [
    "def plot_images_labels_prediction(images, labels, prediction, index, num=10):\n",
    "    fig = plt.gcf()  # 获取当前图表\n",
    "    fig.set_size_inches(10, 12)\n",
    "    if num > 25:\n",
    "        num = 25    # 最多显示25个子图\n",
    "    for i in range(0, num):\n",
    "        ax = plt.subplot(5,5, i+1)\n",
    "        ax.imshow(np.reshape(images[index], (28,28)), cmap=\"binary\")\n",
    "        title=\"label=\" + str(np.argmax(labels[index]))\n",
    "        if len(prediction)>0:\n",
    "            title += \",predict=\" + str(prediction[index])\n",
    "        ax.set_title(title, fontsize=10)\n",
    "        ax.set_xticks([])  # 不显示坐标轴\n",
    "        ax.set_yticks([])\n",
    "        index += 1\n",
    "    plt.show()\n",
    "\n",
    "plot_images_labels_prediction(mnist.test.images, mnist.test.labels, prediction_result, 0, 10)"
   ]
  },
  {
   "cell_type": "code",
   "execution_count": null,
   "metadata": {
    "collapsed": true
   },
   "outputs": [],
   "source": []
  },
  {
   "cell_type": "code",
   "execution_count": 56,
   "metadata": {
    "collapsed": true
   },
   "outputs": [],
   "source": [
    "# 全连接单隐藏层网络建模实现\n",
    "x = tf.placeholder(tf.float32, [None, 784], name=\"X\")\n",
    "y = tf.placeholder(tf.float32, [None, 10], name=\"Y\")\n",
    "# 构建隐藏层\n",
    "H1_NN = 256   # 隐藏层神经元数量\n",
    "W1 = tf.Variable(tf.random_normal([784, H1_NN]))\n",
    "b1 = tf.Variable(tf.zeros([H1_NN]))\n",
    "Y1 = tf.nn.relu(tf.matmul(x, W1) + b1)\n",
    "# 构建输出层\n",
    "W2 = tf.Variable(tf.random_normal([H1_NN, 10]))\n",
    "b2 = tf.Variable(tf.zeros([10]))\n",
    "forward = tf.matmul(Y1, W2) + b2\n",
    "pred = tf.nn.softmax(forward)"
   ]
  },
  {
   "cell_type": "code",
   "execution_count": 59,
   "metadata": {
    "collapsed": true
   },
   "outputs": [
    {
     "name": "stdout",
     "output_type": "stream",
     "text": [
      "WARNING:tensorflow:From <ipython-input-59-8fb1eed0c135>:8: softmax_cross_entropy_with_logits (from tensorflow.python.ops.nn_ops) is deprecated and will be removed in a future version.\n",
      "Instructions for updating:\n",
      "\n",
      "Future major versions of TensorFlow will allow gradients to flow\n",
      "into the labels input on backprop by default.\n",
      "\n",
      "See `tf.nn.softmax_cross_entropy_with_logits_v2`.\n",
      "\n"
     ]
    }
   ],
   "source": [
    "# 设置训练参数\n",
    "train_epochs = 40  # 训练轮数\n",
    "batch_size = 50   # 单次训练样本数（批次大小）\n",
    "total_batch = int(mnist.train.num_examples/batch_size)  # 一轮训练有多少批次\n",
    "display_step = 1  # 显示粒度\n",
    "learning_rate = 0.01  # 学习率\n",
    "# 结合Softmax的交叉熵损失函数，用于避免因为log(0)值为NaN造成的数据不稳定\n",
    "loss_function = tf.reduce_mean(tf.nn.softmax_cross_entropy_with_logits(logits=forward, labels=y))\n",
    "# Adam优化器\n",
    "optimizer = tf.train.AdamOptimizer(learning_rate).minimize(loss_function)\n",
    "\n",
    "correct_prediction = tf.equal(tf.argmax(pred, 1), tf.argmax(y,1))\n",
    "accuracy = tf.reduce_mean(tf.cast(correct_prediction, tf.float32))"
   ]
  },
  {
   "cell_type": "code",
   "execution_count": 60,
   "metadata": {
    "collapsed": true
   },
   "outputs": [
    {
     "name": "stdout",
     "output_type": "stream",
     "text": [
      "Train Epoch: 01 Loss= 1.262539625 Accuracy= 0.9394\n",
      "Train Epoch: 02 Loss= 0.660062730 Accuracy= 0.9516\n",
      "Train Epoch: 03 Loss= 0.455864489 Accuracy= 0.9556\n",
      "Train Epoch: 04 Loss= 0.353663534 Accuracy= 0.9600\n",
      "Train Epoch: 05 Loss= 0.380880028 Accuracy= 0.9602\n",
      "Train Epoch: 06 Loss= 0.442683786 Accuracy= 0.9514\n",
      "Train Epoch: 07 Loss= 0.343103081 Accuracy= 0.9636\n",
      "Train Epoch: 08 Loss= 0.318359733 Accuracy= 0.9624\n",
      "Train Epoch: 09 Loss= 0.346345246 Accuracy= 0.9630\n",
      "Train Epoch: 10 Loss= 0.395686388 Accuracy= 0.9614\n",
      "Train Epoch: 11 Loss= 0.317907512 Accuracy= 0.9682\n",
      "Train Epoch: 12 Loss= 0.377619445 Accuracy= 0.9662\n",
      "Train Epoch: 13 Loss= 0.351834536 Accuracy= 0.9726\n",
      "Train Epoch: 14 Loss= 0.411350548 Accuracy= 0.9694\n",
      "Train Epoch: 15 Loss= 0.437524796 Accuracy= 0.9646\n",
      "Train Epoch: 16 Loss= 0.416701108 Accuracy= 0.9700\n",
      "Train Epoch: 17 Loss= 0.409879208 Accuracy= 0.9718\n",
      "Train Epoch: 18 Loss= 0.445674717 Accuracy= 0.9704\n",
      "Train Epoch: 19 Loss= 0.478438377 Accuracy= 0.9716\n",
      "Train Epoch: 20 Loss= 0.458832860 Accuracy= 0.9742\n",
      "Train Epoch: 21 Loss= 0.474852085 Accuracy= 0.9686\n",
      "Train Epoch: 22 Loss= 0.484316498 Accuracy= 0.9690\n",
      "Train Epoch: 23 Loss= 0.618757725 Accuracy= 0.9712\n",
      "Train Epoch: 24 Loss= 0.517671168 Accuracy= 0.9732\n",
      "Train Epoch: 25 Loss= 0.570904851 Accuracy= 0.9750\n",
      "Train Epoch: 26 Loss= 0.563663661 Accuracy= 0.9728\n",
      "Train Epoch: 27 Loss= 0.564888477 Accuracy= 0.9732\n",
      "Train Epoch: 28 Loss= 0.565896928 Accuracy= 0.9734\n",
      "Train Epoch: 29 Loss= 0.677886248 Accuracy= 0.9698\n",
      "Train Epoch: 30 Loss= 0.648955584 Accuracy= 0.9732\n",
      "Train Epoch: 31 Loss= 0.563732624 Accuracy= 0.9758\n",
      "Train Epoch: 32 Loss= 0.588717341 Accuracy= 0.9740\n",
      "Train Epoch: 33 Loss= 0.749070227 Accuracy= 0.9762\n",
      "Train Epoch: 34 Loss= 0.681663156 Accuracy= 0.9764\n",
      "Train Epoch: 35 Loss= 0.834365845 Accuracy= 0.9756\n",
      "Train Epoch: 36 Loss= 0.842924714 Accuracy= 0.9732\n",
      "Train Epoch: 37 Loss= 0.860177457 Accuracy= 0.9752\n",
      "Train Epoch: 38 Loss= 0.834421098 Accuracy= 0.9732\n",
      "Train Epoch: 39 Loss= 0.762611508 Accuracy= 0.9734\n",
      "Train Epoch: 40 Loss= 0.773558915 Accuracy= 0.9766\n",
      "Train Finished takes: 107.22\n"
     ]
    }
   ],
   "source": [
    "from time import time\n",
    "startTime = time()\n",
    "\n",
    "sess = tf.Session()\n",
    "init = tf.global_variables_initializer()\n",
    "sess.run(init)\n",
    "\n",
    "for epoch in range(train_epochs):\n",
    "    for batch in range(total_batch):\n",
    "        xs, ys = mnist.train.next_batch(batch_size)  # 读取批次数据\n",
    "        sess.run(optimizer, feed_dict={x:xs, y:ys})  # 执行批次训练\n",
    "    \n",
    "    # total_batch个批次训练完成后，使用验证数据计算误差与准确率；验证集没有分批\n",
    "    loss, acc = sess.run([loss_function, accuracy], feed_dict={x:mnist.validation.images, y:mnist.validation.labels})\n",
    "    # 打印训练过程中的详细信息\n",
    "    if (epoch+1) % display_step == 0:\n",
    "        print(\"Train Epoch:\", \"%02d\" % (epoch+1), \"Loss=\", \"{:.9f}\".format(loss), \"Accuracy=\", \"{:.4f}\".format(acc))\n",
    "\n",
    "# 显示运行总时间\n",
    "duration = time()-startTime\n",
    "print(\"Train Finished takes:\", \"{:.2f}\".format(duration))"
   ]
  },
  {
   "cell_type": "code",
   "execution_count": 61,
   "metadata": {
    "collapsed": true
   },
   "outputs": [
    {
     "name": "stdout",
     "output_type": "stream",
     "text": [
      "Test Accuracy: 0.9738\n"
     ]
    }
   ],
   "source": [
    "# 完成训练后，在测试集上评估模型的准确率\n",
    "accu_test = sess.run(accuracy, feed_dict={x: mnist.test.images, y: mnist.test.labels})\n",
    "print(\"Test Accuracy:\", accu_test)"
   ]
  },
  {
   "cell_type": "code",
   "execution_count": 62,
   "metadata": {},
   "outputs": [
    {
     "name": "stdout",
     "output_type": "stream",
     "text": [
      "[7 2 1 0 4 1 4 9 6 9]\n"
     ]
    }
   ],
   "source": [
    "# 由于pred预测结果是独热编码格式，所以需要转换为0-9数字\n",
    "prediction_result = sess.run(tf.argmax(pred, 1), feed_dict={x:mnist.test.images})\n",
    "# 查看预测结果中的前10项\n",
    "print(prediction_result[0:10])"
   ]
  },
  {
   "cell_type": "code",
   "execution_count": 63,
   "metadata": {},
   "outputs": [
    {
     "name": "stdout",
     "output_type": "stream",
     "text": [
      "[8, 104, 121, 151, 217, 241, 247, 292, 321, 340, 406, 445, 447, 495, 582, 591, 619, 629, 655, 659, 674, 684, 720, 726, 844, 877, 882, 924, 938, 947, 951, 956, 965, 1014, 1039, 1050, 1107, 1112, 1226, 1232, 1242, 1247, 1299, 1319, 1328, 1331, 1425, 1466, 1494, 1530, 1549, 1553, 1571, 1601, 1609, 1621, 1678, 1717, 1781, 1878, 1901, 1941, 1955, 1982, 2004, 2016, 2073, 2098, 2105, 2109, 2118, 2130, 2135, 2224, 2272, 2293, 2308, 2358, 2369, 2387, 2408, 2454, 2462, 2488, 2496, 2515, 2578, 2597, 2648, 2654, 2720, 2769, 2770, 2771, 2810, 2863, 2877, 2896, 2915, 2921, 2927, 2938, 2939, 2941, 2953, 2995, 3023, 3030, 3060, 3108, 3284, 3369, 3405, 3475, 3490, 3503, 3520, 3558, 3559, 3597, 3604, 3702, 3776, 3780, 3808, 3831, 3853, 3893, 3906, 3941, 3951, 3976, 3985, 4007, 4065, 4075, 4078, 4116, 4140, 4156, 4163, 4176, 4201, 4212, 4248, 4259, 4271, 4289, 4294, 4373, 4374, 4382, 4429, 4433, 4497, 4498, 4534, 4536, 4548, 4601, 4639, 4721, 4724, 4743, 4761, 4807, 4808, 4823, 4837, 4860, 4861, 4880, 4915, 4944, 4966, 5078, 5331, 5401, 5457, 5642, 5654, 5687, 5734, 5763, 5887, 5888, 5926, 5935, 5936, 5955, 5973, 5982, 6009, 6011, 6023, 6030, 6045, 6059, 6080, 6101, 6157, 6172, 6347, 6555, 6571, 6572, 6574, 6597, 6651, 6755, 6783, 6967, 7061, 7081, 7100, 7256, 7434, 7451, 7481, 7736, 7823, 7849, 7850, 8091, 8246, 8325, 8383, 8408, 8472, 8502, 8520, 8522, 8527, 8863, 9009, 9015, 9019, 9024, 9128, 9252, 9253, 9385, 9530, 9544, 9587, 9664, 9679, 9692, 9713, 9729, 9735, 9740, 9749, 9768, 9770, 9779, 9839, 9858, 9867, 9904, 9925, 9944] 262\n"
     ]
    }
   ],
   "source": [
    "# 找出预测错误\n",
    "compare_lists = prediction_result == np.argmax(mnist.test.labels, 1)\n",
    "err_lists = [i for i in range(len(compare_lists)) if compare_lists[i] == False]\n",
    "print(err_lists, len(err_lists))"
   ]
  },
  {
   "cell_type": "code",
   "execution_count": 64,
   "metadata": {
    "collapsed": true
   },
   "outputs": [
    {
     "data": {
      "image/png": "[encoded data removed]",
      "text/plain": [
       "<matplotlib.figure.Figure at 0x1281ee48>"
      ]
     },
     "metadata": {},
     "output_type": "display_data"
    }
   ],
   "source": [
    "plot_images_labels_prediction(mnist.test.images, mnist.test.labels, prediction_result, 0, 20)"
   ]
  },
  {
   "cell_type": "code",
   "execution_count": 71,
   "metadata": {
    "collapsed": true
   },
   "outputs": [
    {
     "name": "stdout",
     "output_type": "stream",
     "text": [
      "index=8标签值= 5 预测值= 6\n",
      "index=104标签值= 9 预测值= 5\n",
      "index=121标签值= 4 预测值= 8\n",
      "index=151标签值= 9 预测值= 8\n",
      "index=217标签值= 6 预测值= 5\n",
      "index=241标签值= 9 预测值= 5\n",
      "index=247标签值= 4 预测值= 2\n",
      "index=292标签值= 9 预测值= 7\n",
      "index=321标签值= 2 预测值= 7\n",
      "index=340标签值= 5 预测值= 3\n",
      "index=406标签值= 5 预测值= 6\n",
      "index=445标签值= 6 预测值= 0\n",
      "index=447标签值= 4 预测值= 9\n",
      "index=495标签值= 8 预测值= 0\n",
      "index=582标签值= 8 预测值= 2\n",
      "index=591标签值= 8 预测值= 2\n",
      "index=619标签值= 1 预测值= 8\n",
      "index=629标签值= 2 预测值= 0\n",
      "index=655标签值= 8 预测值= 2\n",
      "index=659标签值= 2 预测值= 8\n",
      "index=674标签值= 5 预测值= 3\n",
      "index=684标签值= 7 预测值= 3\n",
      "index=720标签值= 5 预测值= 8\n",
      "index=726标签值= 7 预测值= 9\n",
      "index=844标签值= 8 预测值= 7\n",
      "index=877标签值= 8 预测值= 6\n",
      "index=882标签值= 9 预测值= 7\n",
      "index=924标签值= 2 预测值= 7\n",
      "index=938标签值= 3 预测值= 5\n",
      "index=947标签值= 8 预测值= 7\n",
      "index=951标签值= 5 预测值= 4\n",
      "index=956标签值= 1 预测值= 2\n",
      "index=965标签值= 6 预测值= 0\n",
      "index=1014标签值= 6 预测值= 5\n",
      "index=1039标签值= 7 预测值= 2\n",
      "index=1050标签值= 2 预测值= 0\n",
      "index=1107标签值= 9 预测值= 3\n",
      "index=1112标签值= 4 预测值= 6\n",
      "index=1226标签值= 7 预测值= 2\n",
      "index=1232标签值= 9 预测值= 4\n",
      "index=1242标签值= 4 预测值= 9\n",
      "index=1247标签值= 9 预测值= 5\n",
      "index=1299标签值= 5 预测值= 7\n",
      "index=1319标签值= 8 预测值= 0\n",
      "index=1328标签值= 7 预测值= 9\n",
      "index=1331标签值= 5 预测值= 3\n",
      "index=1425标签值= 8 预测值= 4\n",
      "index=1466标签值= 5 预测值= 3\n",
      "index=1494标签值= 7 预测值= 0\n",
      "index=1530标签值= 8 预测值= 7\n",
      "index=1549标签值= 4 预测值= 6\n",
      "index=1553标签值= 9 预测值= 3\n",
      "index=1571标签值= 4 预测值= 9\n",
      "index=1601标签值= 3 预测值= 7\n",
      "index=1609标签值= 2 预测值= 6\n",
      "index=1621标签值= 0 预测值= 6\n",
      "index=1678标签值= 2 预测值= 0\n",
      "index=1717标签值= 8 预测值= 0\n",
      "index=1781标签值= 9 预测值= 6\n",
      "index=1878标签值= 8 预测值= 3\n",
      "index=1901标签值= 9 预测值= 4\n",
      "index=1941标签值= 7 预测值= 8\n",
      "index=1955标签值= 8 预测值= 2\n",
      "index=1982标签值= 6 预测值= 5\n",
      "index=2004标签值= 8 预测值= 9\n",
      "index=2016标签值= 7 预测值= 2\n",
      "index=2073标签值= 5 预测值= 6\n",
      "index=2098标签值= 2 预测值= 0\n",
      "index=2105标签值= 3 预测值= 5\n",
      "index=2109标签值= 3 预测值= 8\n",
      "index=2118标签值= 6 预测值= 0\n",
      "index=2130标签值= 4 预测值= 9\n",
      "index=2135标签值= 6 预测值= 1\n",
      "index=2224标签值= 5 预测值= 6\n",
      "index=2272标签值= 8 预测值= 6\n",
      "index=2293标签值= 9 预测值= 0\n",
      "index=2308标签值= 3 预测值= 5\n",
      "index=2358标签值= 1 预测值= 3\n",
      "index=2369标签值= 5 预测值= 8\n",
      "index=2387标签值= 9 预测值= 1\n",
      "index=2408标签值= 3 预测值= 5\n",
      "index=2454标签值= 6 预测值= 5\n",
      "index=2462标签值= 2 预测值= 0\n",
      "index=2488标签值= 2 预测值= 4\n",
      "index=2496标签值= 2 预测值= 3\n",
      "index=2515标签值= 5 预测值= 6\n",
      "index=2578标签值= 7 预测值= 2\n",
      "index=2597标签值= 5 预测值= 3\n",
      "index=2648标签值= 9 预测值= 0\n",
      "index=2654标签值= 6 预测值= 1\n",
      "index=2720标签值= 9 预测值= 4\n",
      "index=2769标签值= 9 预测值= 7\n",
      "index=2770标签值= 3 预测值= 7\n",
      "index=2771标签值= 4 预测值= 9\n",
      "index=2810标签值= 5 预测值= 3\n",
      "index=2863标签值= 9 预测值= 4\n",
      "index=2877标签值= 4 预测值= 9\n",
      "index=2896标签值= 8 预测值= 0\n",
      "index=2915标签值= 7 预测值= 3\n",
      "index=2921标签值= 3 预测值= 0\n",
      "index=2927标签值= 3 预测值= 2\n",
      "index=2938标签值= 4 预测值= 9\n",
      "index=2939标签值= 9 预测值= 7\n",
      "index=2941标签值= 9 预测值= 5\n",
      "index=2953标签值= 3 预测值= 5\n",
      "index=2995标签值= 6 预测值= 5\n",
      "index=3023标签值= 8 预测值= 5\n",
      "index=3030标签值= 6 预测值= 8\n",
      "index=3060标签值= 9 预测值= 7\n",
      "index=3108标签值= 3 预测值= 5\n",
      "index=3284标签值= 8 预测值= 7\n",
      "index=3369标签值= 9 预测值= 1\n",
      "index=3405标签值= 4 预测值= 9\n",
      "index=3475标签值= 3 预测值= 7\n",
      "index=3490标签值= 4 预测值= 9\n",
      "index=3503标签值= 9 预测值= 1\n",
      "index=3520标签值= 6 预测值= 4\n",
      "index=3558标签值= 5 预测值= 0\n",
      "index=3559标签值= 8 预测值= 6\n",
      "index=3597标签值= 9 预测值= 5\n",
      "index=3604标签值= 7 预测值= 0\n",
      "index=3702标签值= 5 预测值= 9\n",
      "index=3776标签值= 5 预测值= 8\n",
      "index=3780标签值= 4 预测值= 6\n",
      "index=3808标签值= 7 预测值= 8\n",
      "index=3831标签值= 9 预测值= 4\n",
      "index=3853标签值= 6 预测值= 5\n",
      "index=3893标签值= 5 预测值= 6\n",
      "index=3906标签值= 1 预测值= 3\n",
      "index=3941标签值= 4 预测值= 6\n",
      "index=3951标签值= 8 预测值= 7\n",
      "index=3976标签值= 7 预测值= 1\n",
      "index=3985标签值= 9 预测值= 4\n",
      "index=4007标签值= 7 预测值= 4\n",
      "index=4065标签值= 0 预测值= 5\n",
      "index=4075标签值= 8 预测值= 3\n",
      "index=4078标签值= 9 预测值= 8\n",
      "index=4116标签值= 8 预测值= 5\n",
      "index=4140标签值= 8 预测值= 2\n",
      "index=4156标签值= 2 预测值= 8\n",
      "index=4163标签值= 9 预测值= 0\n",
      "index=4176标签值= 2 预测值= 7\n",
      "index=4201标签值= 1 预测值= 7\n",
      "index=4212标签值= 1 预测值= 3\n",
      "index=4248标签值= 2 预测值= 8\n",
      "index=4259标签值= 9 预测值= 4\n",
      "index=4271标签值= 5 预测值= 3\n",
      "index=4289标签值= 2 预测值= 7\n",
      "index=4294标签值= 9 预测值= 7\n",
      "index=4373标签值= 4 预测值= 9\n",
      "index=4374标签值= 5 预测值= 6\n",
      "index=4382标签值= 4 预测值= 9\n",
      "index=4429标签值= 8 预测值= 5\n",
      "index=4433标签值= 7 预测值= 2\n",
      "index=4497标签值= 8 预测值= 7\n",
      "index=4498标签值= 7 预测值= 3\n",
      "index=4534标签值= 9 预测值= 3\n",
      "index=4536标签值= 6 预测值= 5\n",
      "index=4548标签值= 5 预测值= 6\n",
      "index=4601标签值= 8 预测值= 4\n",
      "index=4639标签值= 8 预测值= 9\n",
      "index=4721标签值= 4 预测值= 6\n",
      "index=4724标签值= 8 预测值= 0\n",
      "index=4743标签值= 8 预测值= 5\n",
      "index=4761标签值= 9 预测值= 4\n",
      "index=4807标签值= 8 预测值= 3\n",
      "index=4808标签值= 3 预测值= 5\n",
      "index=4823标签值= 9 预测值= 6\n",
      "index=4837标签值= 7 预测值= 2\n",
      "index=4860标签值= 4 预测值= 9\n",
      "index=4861标签值= 7 预测值= 3\n",
      "index=4880标签值= 0 预测值= 8\n",
      "index=4915标签值= 5 预测值= 8\n",
      "index=4944标签值= 2 预测值= 5\n",
      "index=4966标签值= 7 预测值= 9\n",
      "index=5078标签值= 3 预测值= 2\n",
      "index=5331标签值= 1 预测值= 6\n",
      "index=5401标签值= 6 预测值= 3\n",
      "index=5457标签值= 1 预测值= 8\n",
      "index=5642标签值= 1 预测值= 5\n",
      "index=5654标签值= 7 预测值= 2\n",
      "index=5687标签值= 3 预测值= 8\n",
      "index=5734标签值= 3 预测值= 7\n",
      "index=5763标签值= 2 预测值= 6\n",
      "index=5887标签值= 7 预测值= 0\n",
      "index=5888标签值= 4 预测值= 0\n",
      "index=5926标签值= 4 预测值= 9\n",
      "index=5935标签值= 3 预测值= 5\n",
      "index=5936标签值= 4 预测值= 9\n",
      "index=5955标签值= 3 预测值= 8\n",
      "index=5973标签值= 3 预测值= 8\n",
      "index=5982标签值= 5 预测值= 3\n",
      "index=6009标签值= 3 预测值= 5\n",
      "index=6011标签值= 3 预测值= 0\n",
      "index=6023标签值= 3 预测值= 5\n",
      "index=6030标签值= 3 预测值= 5\n",
      "index=6045标签值= 3 预测值= 5\n",
      "index=6059标签值= 3 预测值= 8\n",
      "index=6080标签值= 8 预测值= 0\n",
      "index=6101标签值= 1 预测值= 5\n",
      "index=6157标签值= 9 预测值= 0\n",
      "index=6172标签值= 9 预测值= 0\n",
      "index=6347标签值= 8 预测值= 2\n",
      "index=6555标签值= 8 预测值= 9\n",
      "index=6571标签值= 9 预测值= 7\n",
      "index=6572标签值= 1 预测值= 5\n",
      "index=6574标签值= 2 预测值= 6\n",
      "index=6597标签值= 0 预测值= 7\n",
      "index=6651标签值= 0 预测值= 8\n",
      "index=6755标签值= 8 预测值= 9\n",
      "index=6783标签值= 1 预测值= 6\n",
      "index=6967标签值= 9 预测值= 7\n",
      "index=7061标签值= 9 预测值= 7\n",
      "index=7081标签值= 9 预测值= 7\n",
      "index=7100标签值= 2 预测值= 1\n",
      "index=7256标签值= 9 预测值= 7\n",
      "index=7434标签值= 4 预测值= 8\n",
      "index=7451标签值= 5 预测值= 6\n",
      "index=7481标签值= 8 预测值= 5\n",
      "index=7736标签值= 9 预测值= 4\n",
      "index=7823标签值= 8 预测值= 0\n",
      "index=7849标签值= 3 预测值= 2\n",
      "index=7850标签值= 5 预测值= 0\n",
      "index=8091标签值= 2 预测值= 1\n",
      "index=8246标签值= 3 预测值= 9\n",
      "index=8325标签值= 0 预测值= 6\n",
      "index=8383标签值= 9 预测值= 5\n",
      "index=8408标签值= 8 预测值= 6\n",
      "index=8472标签值= 4 预测值= 9\n",
      "index=8502标签值= 5 预测值= 3\n",
      "index=8520标签值= 4 预测值= 9\n",
      "index=8522标签值= 8 预测值= 6\n",
      "index=8527标签值= 4 预测值= 9\n",
      "index=8863标签值= 5 预测值= 6\n",
      "index=9009标签值= 7 预测值= 2\n",
      "index=9015标签值= 7 预测值= 2\n",
      "index=9019标签值= 7 预测值= 2\n",
      "index=9024标签值= 7 预测值= 2\n",
      "index=9128标签值= 4 预测值= 7\n",
      "index=9252标签值= 9 预测值= 7\n",
      "index=9253标签值= 4 预测值= 9\n",
      "index=9385标签值= 8 预测值= 6\n",
      "index=9530标签值= 9 预测值= 7\n",
      "index=9544标签值= 9 预测值= 7\n",
      "index=9587标签值= 9 预测值= 4\n",
      "index=9664标签值= 2 预测值= 7\n",
      "index=9679标签值= 6 预测值= 5\n",
      "index=9692标签值= 9 预测值= 7\n",
      "index=9713标签值= 9 预测值= 7\n",
      "index=9729标签值= 5 预测值= 6\n",
      "index=9735标签值= 4 预测值= 9\n",
      "index=9740标签值= 9 预测值= 7\n",
      "index=9749标签值= 5 预测值= 6\n",
      "index=9768标签值= 2 预测值= 0\n",
      "index=9770标签值= 5 预测值= 0\n",
      "index=9779标签值= 2 预测值= 0\n",
      "index=9839标签值= 2 预测值= 7\n",
      "index=9858标签值= 6 预测值= 5\n",
      "index=9867标签值= 2 预测值= 8\n",
      "index=9904标签值= 2 预测值= 0\n",
      "index=9925标签值= 3 预测值= 8\n",
      "index=9944标签值= 3 预测值= 8\n",
      "总计：262\n"
     ]
    }
   ],
   "source": [
    "# 定义输出错误分类的函数\n",
    "def print_predict_errs(labels, prediction):\n",
    "    count=0\n",
    "    compare_lists = (prediction==np.argmax(labels, 1))\n",
    "    err_lists = [i for i in range(len(compare_lists)) if compare_lists[i] == False]\n",
    "    for x in err_lists:\n",
    "        print(\"index=\" + str(x) + \"标签值=\", np.argmax(labels[x]), \"预测值=\", prediction[x])\n",
    "        count = count+1\n",
    "    print(\"总计：\"+ str(count))\n",
    "\n",
    "print_predict_errs(labels=mnist.test.labels, prediction = prediction_result)"
   ]
  },
  {
   "cell_type": "code",
   "execution_count": null,
   "metadata": {
    "collapsed": true
   },
   "outputs": [],
   "source": [
    "# 多层神经网络建模与模型的保存还原\n",
    "H1_NN = 256   # 第一隐藏层神经元为256个\n",
    "H2_NN = 64    # 第二隐藏层神经元为64个\n",
    "# 输入层-第一隐藏层参数和偏置项\n",
    "W1 = tf.Variable(tf.truncated_normal([784, H1_NN], stddev = 0.1))\n",
    "b1 = tf.Variable(tf.zeros[H1_NN])\n",
    "# 第一隐藏层-第二隐藏层参数和偏置项\n",
    "W2 = tf.Variable(tf.truncated_normal([H1_NN, H2_NN], stddev = 0.1))\n",
    "b2 = tf.Variable(tf.zeros[H2_NN])\n",
    "# 第二隐藏层-输出层参数和偏置项\n",
    "W3 = tf.Variable(tf.truncated_normal([H2_NN, 10], stddev = 0.1))\n",
    "b2 = tf.Variable(tf.zeros[10])\n",
    "# 计算第一隐藏层结果\n",
    "Y1 = tf.nn.relu(tf.matmul(x, W1) + b1)\n",
    "# 计算第二隐藏层结果\n",
    "Y2 = tf.nn.relu(tf.matmul(Y1, W2) + b2)\n",
    "# 计算输出结果\n",
    "forward = tf.matmul(Y2, W3) + b3\n",
    "pred = tf.nn.softmax(forward)"
   ]
  },
  {
   "cell_type": "code",
   "execution_count": 72,
   "metadata": {},
   "outputs": [
    {
     "name": "stdout",
     "output_type": "stream",
     "text": [
      "Train Epoch: 01 Loss= 1.434194326 Accuracy= 0.9384\n",
      "Train Epoch: 02 Loss= 0.866662323 Accuracy= 0.9424\n",
      "Train Epoch: 03 Loss= 0.650168777 Accuracy= 0.9532\n",
      "Train Epoch: 04 Loss= 0.440463364 Accuracy= 0.9572\n",
      "Train Epoch: 05 Loss= 0.412544638 Accuracy= 0.9582\n",
      "Train Epoch: 06 Loss= 0.422783405 Accuracy= 0.9586\n",
      "Train Epoch: 07 Loss= 0.456409723 Accuracy= 0.9568\n",
      "Train Epoch: 08 Loss= 0.378219008 Accuracy= 0.9610\n",
      "Train Epoch: 09 Loss= 0.425614208 Accuracy= 0.9632\n",
      "Train Epoch: 10 Loss= 0.408308208 Accuracy= 0.9598\n",
      "Train Epoch: 11 Loss= 0.556892693 Accuracy= 0.9526\n",
      "Train Epoch: 12 Loss= 0.394996047 Accuracy= 0.9670\n",
      "Train Epoch: 13 Loss= 0.305846423 Accuracy= 0.9668\n",
      "Train Epoch: 14 Loss= 0.360596985 Accuracy= 0.9720\n",
      "Train Epoch: 15 Loss= 0.537532091 Accuracy= 0.9644\n",
      "Train Epoch: 16 Loss= 0.453889072 Accuracy= 0.9706\n",
      "Train Epoch: 17 Loss= 0.464279741 Accuracy= 0.9684\n",
      "Train Epoch: 18 Loss= 0.565885067 Accuracy= 0.9660\n",
      "Train Epoch: 19 Loss= 0.497817665 Accuracy= 0.9730\n",
      "Train Epoch: 20 Loss= 0.572404504 Accuracy= 0.9706\n",
      "Train Epoch: 21 Loss= 0.528316379 Accuracy= 0.9720\n",
      "Train Epoch: 22 Loss= 0.620926082 Accuracy= 0.9688\n",
      "Train Epoch: 23 Loss= 0.578144491 Accuracy= 0.9722\n",
      "Train Epoch: 24 Loss= 0.652855277 Accuracy= 0.9722\n",
      "Train Epoch: 25 Loss= 0.592573225 Accuracy= 0.9706\n",
      "Train Epoch: 26 Loss= 0.663275659 Accuracy= 0.9700\n",
      "Train Epoch: 27 Loss= 0.714536786 Accuracy= 0.9710\n",
      "Train Epoch: 28 Loss= 0.685616016 Accuracy= 0.9696\n",
      "Train Epoch: 29 Loss= 0.721705735 Accuracy= 0.9736\n",
      "Train Epoch: 30 Loss= 0.731054544 Accuracy= 0.9728\n",
      "Train Epoch: 31 Loss= 0.943427563 Accuracy= 0.9684\n",
      "Train Epoch: 32 Loss= 0.757692218 Accuracy= 0.9738\n",
      "Train Epoch: 33 Loss= 0.702651203 Accuracy= 0.9758\n",
      "Train Epoch: 34 Loss= 0.808527648 Accuracy= 0.9716\n",
      "Train Epoch: 35 Loss= 0.814881206 Accuracy= 0.9748\n",
      "Train Epoch: 36 Loss= 0.995520532 Accuracy= 0.9712\n",
      "Train Epoch: 37 Loss= 0.847636402 Accuracy= 0.9770\n",
      "Train Epoch: 38 Loss= 0.762745380 Accuracy= 0.9794\n",
      "Train Epoch: 39 Loss= 0.928503096 Accuracy= 0.9746\n",
      "Train Epoch: 40 Loss= 0.985768557 Accuracy= 0.9730\n",
      "Train Finished takes: 107.01\n"
     ]
    }
   ],
   "source": [
    "# 设置训练参数\n",
    "train_epochs = 40  # 训练轮数\n",
    "batch_size = 50   # 单次训练样本数（批次大小）\n",
    "total_batch = int(mnist.train.num_examples/batch_size)  # 一轮训练有多少批次\n",
    "display_step = 1  # 显示粒度\n",
    "learning_rate = 0.01  # 学习率\n",
    "# 结合Softmax的交叉熵损失函数，用于避免因为log(0)值为NaN造成的数据不稳定\n",
    "loss_function = tf.reduce_mean(tf.nn.softmax_cross_entropy_with_logits(logits=forward, labels=y))\n",
    "# Adam优化器\n",
    "optimizer = tf.train.AdamOptimizer(learning_rate).minimize(loss_function)\n",
    "\n",
    "correct_prediction = tf.equal(tf.argmax(pred, 1), tf.argmax(y,1))\n",
    "accuracy = tf.reduce_mean(tf.cast(correct_prediction, tf.float32))\n",
    "\n",
    "from time import time\n",
    "startTime = time()\n",
    "\n",
    "sess = tf.Session()\n",
    "init = tf.global_variables_initializer()\n",
    "sess.run(init)\n",
    "\n",
    "for epoch in range(train_epochs):\n",
    "    for batch in range(total_batch):\n",
    "        xs, ys = mnist.train.next_batch(batch_size)  # 读取批次数据\n",
    "        sess.run(optimizer, feed_dict={x:xs, y:ys})  # 执行批次训练\n",
    "    \n",
    "    # total_batch个批次训练完成后，使用验证数据计算误差与准确率；验证集没有分批\n",
    "    loss, acc = sess.run([loss_function, accuracy], feed_dict={x:mnist.validation.images, y:mnist.validation.labels})\n",
    "    # 打印训练过程中的详细信息\n",
    "    if (epoch+1) % display_step == 0:\n",
    "        print(\"Train Epoch:\", \"%02d\" % (epoch+1), \"Loss=\", \"{:.9f}\".format(loss), \"Accuracy=\", \"{:.4f}\".format(acc))\n",
    "\n",
    "# 显示运行总时间\n",
    "duration = time()-startTime\n",
    "print(\"Train Finished takes:\", \"{:.2f}\".format(duration))"
   ]
  },
  {
   "cell_type": "code",
   "execution_count": 73,
   "metadata": {},
   "outputs": [
    {
     "name": "stdout",
     "output_type": "stream",
     "text": [
      "Test Accuracy: 0.9741\n"
     ]
    }
   ],
   "source": [
    "# 完成训练后，在测试集上评估模型的准确率(多层效果不一定优于单层，需要调试超参数)\n",
    "accu_test = sess.run(accuracy, feed_dict={x: mnist.test.images, y: mnist.test.labels})\n",
    "print(\"Test Accuracy:\", accu_test)"
   ]
  },
  {
   "cell_type": "code",
   "execution_count": null,
   "metadata": {
    "collapsed": true
   },
   "outputs": [],
   "source": []
  },
  {
   "cell_type": "code",
   "execution_count": 5,
   "metadata": {
    "collapsed": true
   },
   "outputs": [],
   "source": [
    "# 定义全连接层函数\n",
    "def fcn_layer(inputs, input_dim, output_dim, activation=None):\n",
    "    W = tf.Variable(tf.truncated_normal([input_dim, output_dim], stddev=0.1))\n",
    "    b = tf.Variable(tf.zeros([output_dim]))\n",
    "    XWb = tf.matmul(inputs, W) + b\n",
    "    if activation is None:\n",
    "        outputs = XWb\n",
    "    else:\n",
    "        outputs = activation(XWb)\n",
    "    return outputs"
   ]
  },
  {
   "cell_type": "code",
   "execution_count": 6,
   "metadata": {
    "collapsed": true
   },
   "outputs": [],
   "source": [
    "# 构建三隐层模型\n",
    "H1_NN = 256\n",
    "H2_NN = 64\n",
    "H3_NN = 32\n",
    "# 构建输入层\n",
    "x = tf.placeholder(tf.float32, [None, 784], name=\"X\")\n",
    "# 构建隐藏层1\n",
    "h1 = fcn_layer(inputs=x, input_dim=784, output_dim=H1_NN, activation=tf.nn.relu)\n",
    "# 构建隐藏层2\n",
    "h2 = fcn_layer(inputs=h1, input_dim=H1_NN, output_dim=H2_NN, activation=tf.nn.relu)\n",
    "# 构建隐藏层3\n",
    "h3 = fcn_layer(inputs=h2, input_dim=H2_NN, output_dim=H3_NN, activation=tf.nn.relu)\n",
    "# 构建输出层\n",
    "forward = fcn_layer(inputs=h3, input_dim=H3_NN, output_dim=10, activation=None)\n",
    "pred = tf.nn.softmax(forward)\n",
    "# 训练过程同上省略"
   ]
  },
  {
   "cell_type": "code",
   "execution_count": 7,
   "metadata": {
    "collapsed": true
   },
   "outputs": [],
   "source": [
    "# 存储模型的粒度\n",
    "save_step = 5\n",
    "# 创建保存模型文件的目录\n",
    "import os\n",
    "ckpt_dir = \"./ckpt_dir/\"\n",
    "if not os.path.exists(ckpt_dir):\n",
    "    os.makedirs(ckpt_dir)\n",
    "# 声明完所有变量后，调用tf.train.Saver\n",
    "saver = tf.train.Saver()"
   ]
  },
  {
   "cell_type": "code",
   "execution_count": 8,
   "metadata": {},
   "outputs": [
    {
     "name": "stdout",
     "output_type": "stream",
     "text": [
      "WARNING:tensorflow:From <ipython-input-8-4c955e09b0e6>:8: softmax_cross_entropy_with_logits (from tensorflow.python.ops.nn_ops) is deprecated and will be removed in a future version.\n",
      "Instructions for updating:\n",
      "\n",
      "Future major versions of TensorFlow will allow gradients to flow\n",
      "into the labels input on backprop by default.\n",
      "\n",
      "See `tf.nn.softmax_cross_entropy_with_logits_v2`.\n",
      "\n",
      "Train Epoch: 01 Loss= 0.179056197 Accuracy= 0.9506\n",
      "Train Epoch: 02 Loss= 0.135319218 Accuracy= 0.9638\n",
      "Train Epoch: 03 Loss= 0.142146289 Accuracy= 0.9674\n",
      "Train Epoch: 04 Loss= 0.185633332 Accuracy= 0.9626\n",
      "Train Epoch: 05 Loss= 0.131845400 Accuracy= 0.9696\n",
      "mnist_h256_model_000005.ckpt saved\n",
      "Train Epoch: 06 Loss= 0.121152267 Accuracy= 0.9740\n",
      "Train Epoch: 07 Loss= 0.178398639 Accuracy= 0.9696\n",
      "Train Epoch: 08 Loss= 0.126798630 Accuracy= 0.9738\n",
      "Train Epoch: 09 Loss= 0.110531285 Accuracy= 0.9730\n",
      "Train Epoch: 10 Loss= 0.136402741 Accuracy= 0.9702\n",
      "mnist_h256_model_000010.ckpt saved\n",
      "Train Epoch: 11 Loss= 0.136622071 Accuracy= 0.9688\n",
      "Train Epoch: 12 Loss= 0.161598042 Accuracy= 0.9692\n",
      "Train Epoch: 13 Loss= 0.124132968 Accuracy= 0.9766\n",
      "Train Epoch: 14 Loss= 0.129855081 Accuracy= 0.9730\n",
      "Train Epoch: 15 Loss= 0.235727340 Accuracy= 0.9574\n",
      "mnist_h256_model_000015.ckpt saved\n",
      "Train Epoch: 16 Loss= 0.271114051 Accuracy= 0.9650\n",
      "Train Epoch: 17 Loss= 0.128859103 Accuracy= 0.9762\n",
      "Train Epoch: 18 Loss= 0.127217382 Accuracy= 0.9774\n",
      "Train Epoch: 19 Loss= 0.172373503 Accuracy= 0.9738\n",
      "Train Epoch: 20 Loss= 0.144384846 Accuracy= 0.9792\n",
      "mnist_h256_model_000020.ckpt saved\n",
      "Train Epoch: 21 Loss= 0.172625348 Accuracy= 0.9758\n",
      "Train Epoch: 22 Loss= 0.149324566 Accuracy= 0.9754\n",
      "Train Epoch: 23 Loss= 0.183878571 Accuracy= 0.9752\n",
      "Train Epoch: 24 Loss= 0.152910262 Accuracy= 0.9782\n",
      "Train Epoch: 25 Loss= 0.172354132 Accuracy= 0.9708\n",
      "mnist_h256_model_000025.ckpt saved\n",
      "Train Epoch: 26 Loss= 0.177063003 Accuracy= 0.9690\n",
      "Train Epoch: 27 Loss= 0.181809500 Accuracy= 0.9712\n",
      "Train Epoch: 28 Loss= 0.247305080 Accuracy= 0.9692\n",
      "Train Epoch: 29 Loss= 0.189345971 Accuracy= 0.9726\n",
      "Train Epoch: 30 Loss= 0.203567401 Accuracy= 0.9704\n",
      "mnist_h256_model_000030.ckpt saved\n",
      "Train Epoch: 31 Loss= 0.183643296 Accuracy= 0.9742\n",
      "Train Epoch: 32 Loss= 0.243939325 Accuracy= 0.9720\n",
      "Train Epoch: 33 Loss= 0.215405807 Accuracy= 0.9738\n",
      "Train Epoch: 34 Loss= 0.188512251 Accuracy= 0.9756\n",
      "Train Epoch: 35 Loss= 0.211891651 Accuracy= 0.9756\n",
      "mnist_h256_model_000035.ckpt saved\n",
      "Train Epoch: 36 Loss= 0.243984833 Accuracy= 0.9772\n",
      "Train Epoch: 37 Loss= 0.258173674 Accuracy= 0.9776\n",
      "Train Epoch: 38 Loss= 0.285135925 Accuracy= 0.9724\n",
      "Train Epoch: 39 Loss= 0.207994923 Accuracy= 0.9734\n",
      "Train Epoch: 40 Loss= 0.286713332 Accuracy= 0.9732\n",
      "mnist_h256_model_000040.ckpt saved\n",
      "Model saved!\n",
      "Train Finished takes: 135.81\n"
     ]
    }
   ],
   "source": [
    "# 设置训练参数\n",
    "train_epochs = 40  # 训练轮数\n",
    "batch_size = 50   # 单次训练样本数（批次大小）\n",
    "total_batch = int(mnist.train.num_examples/batch_size)  # 一轮训练有多少批次\n",
    "display_step = 1  # 显示粒度\n",
    "learning_rate = 0.01  # 学习率\n",
    "# 结合Softmax的交叉熵损失函数，用于避免因为log(0)值为NaN造成的数据不稳定\n",
    "loss_function = tf.reduce_mean(tf.nn.softmax_cross_entropy_with_logits(logits=forward, labels=y))\n",
    "# Adam优化器\n",
    "optimizer = tf.train.AdamOptimizer(learning_rate).minimize(loss_function)\n",
    "\n",
    "correct_prediction = tf.equal(tf.argmax(pred, 1), tf.argmax(y,1))\n",
    "accuracy = tf.reduce_mean(tf.cast(correct_prediction, tf.float32))\n",
    "\n",
    "from time import time\n",
    "startTime = time()\n",
    "\n",
    "sess = tf.Session()\n",
    "init = tf.global_variables_initializer()\n",
    "sess.run(init)\n",
    "\n",
    "for epoch in range(train_epochs):\n",
    "    for batch in range(total_batch):\n",
    "        xs, ys = mnist.train.next_batch(batch_size)  # 读取批次数据\n",
    "        sess.run(optimizer, feed_dict={x:xs, y:ys})  # 执行批次训练\n",
    "    \n",
    "    # total_batch个批次训练完成后，使用验证数据计算误差与准确率；验证集没有分批\n",
    "    loss, acc = sess.run([loss_function, accuracy], feed_dict={x:mnist.validation.images, y:mnist.validation.labels})\n",
    "    # 打印训练过程中的详细信息\n",
    "    if (epoch+1) % display_step == 0:\n",
    "        print(\"Train Epoch:\", \"%02d\" % (epoch+1), \"Loss=\", \"{:.9f}\".format(loss), \"Accuracy=\", \"{:.4f}\".format(acc))\n",
    "    if(epoch+1) % save_step == 0:\n",
    "        saver.save(sess, os.path.join(ckpt_dir, 'mnist_h256_model_{:06d}.ckpt'.format(epoch+1)))  # 存储模型\n",
    "        print('mnist_h256_model_{:06d}.ckpt saved'.format(epoch+1))\n",
    "\n",
    "saver.save(sess, os.path.join(ckpt_dir, 'mnist_h256_model.ckpt'))\n",
    "print(\"Model saved!\")\n",
    "# 显示运行总时间\n",
    "duration = time()-startTime\n",
    "print(\"Train Finished takes:\", \"{:.2f}\".format(duration))"
   ]
  },
  {
   "cell_type": "code",
   "execution_count": 16,
   "metadata": {},
   "outputs": [
    {
     "name": "stdout",
     "output_type": "stream",
     "text": [
      "Restore model from./ckpt_dir/mnist_h256_model.ckpt\n"
     ]
    }
   ],
   "source": [
    "# 模型的还原\n",
    "# 定义相同结构的模型：构建输入层、隐藏层、输出层\n",
    "x = tf.placeholder(tf.float32, [None, 784], name=\"X\")\n",
    "h1 = fcn_layer(inputs=x, input_dim=784, output_dim=256, activation=tf.nn.relu)\n",
    "h2 = fcn_layer(inputs=h1, input_dim=256, output_dim=64, activation=tf.nn.relu)\n",
    "h3 = fcn_layer(inputs=h2, input_dim=64, output_dim=32, activation=tf.nn.relu)\n",
    "forward = fcn_layer(inputs=h3, input_dim=32, output_dim=10, activation=None)\n",
    "pred = tf.nn.softmax(forward)\n",
    "# 必须指定为模型文件的存放目录\n",
    "ckpt_dir = \"./ckpt_dir/\"\n",
    "# 读取模型 创建saver\n",
    "saver = tf.train.Saver()\n",
    "sess = tf.Session()\n",
    "init = tf.global_variables_initializer()\n",
    "sess.run(init)\n",
    "ckpt = tf.train.get_checkpoint_state(ckpt_dir)\n",
    "if ckpt and ckpt.model_checkpoint_path:\n",
    "    saver.restore(sess, ckpt.model_checkpoint_path)  # 从已保存的模型中读取参数\n",
    "    print(\"Restore model from\" + ckpt.model_checkpoint_path)"
   ]
  },
  {
   "cell_type": "code",
   "execution_count": 17,
   "metadata": {
    "collapsed": true
   },
   "outputs": [],
   "source": [
    "# TensorBoard应用进阶参考pdf\n",
    "# TensorFlow游乐场演示：http://playground.tensorflow.org"
   ]
  }
 ],
 "metadata": {
  "kernelspec": {
   "display_name": "Python 3",
   "language": "python",
   "name": "python3"
  },
  "language_info": {
   "codemirror_mode": {
    "name": "ipython",
    "version": 3
   },
   "file_extension": ".py",
   "mimetype": "text/x-python",
   "name": "python",
   "nbconvert_exporter": "python",
   "pygments_lexer": "ipython3",
   "version": "3.6.8"
  }
 },
 "nbformat": 4,
 "nbformat_minor": 2
}
